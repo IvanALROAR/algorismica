{
 "cells": [
  {
   "cell_type": "markdown",
   "metadata": {},
   "source": [
    "<div style=\"padding:30px; color: white; background-color: #0071CD\">\n",
    "<center>\n",
    "<img src=\"img/logoub.jpeg\"></img>\n",
    "<center>\n",
    "<h1>Algorísmica Avançada</h1>\n",
    "<h2>Programació Dinàmica</h2>\n",
    "</center>\n",
    "</div>"
   ]
  },
  {
   "cell_type": "code",
   "execution_count": 1,
   "metadata": {},
   "outputs": [
    {
     "data": {
      "text/html": [
       "<style>.container { width:100% !important; }</style>"
      ],
      "text/plain": [
       "<IPython.core.display.HTML object>"
      ]
     },
     "metadata": {},
     "output_type": "display_data"
    }
   ],
   "source": [
    "from IPython.display import display, HTML\n",
    "display(HTML(\"<style>.container { width:100% !important; }</style>\"))"
   ]
  },
  {
   "cell_type": "code",
   "execution_count": 2,
   "metadata": {},
   "outputs": [],
   "source": [
    "import networkx as nx\n",
    "from matplotlib import pyplot as plt\n",
    "from digraph_plot import my_draw_networkx_edge_labels\n",
    "import numpy as np"
   ]
  },
  {
   "cell_type": "markdown",
   "metadata": {},
   "source": [
    "# Problema 1: Subseqüència Incremental més Llarga (Longest Increasing Subsequence, LIS)\n",
    "Donada una seqüència de números, per exemple: $10, 22, 9, 33, 21, 50, 41, 60, 80$, volem trobar la subsequència d'elements més llarga possible que satisfaci que els seus elements estiguin ordenats de petit a gran.<br>\n",
    "En el cas de l'exemple donat, la subseqüència més llarga té 6 elements: $10, 22, 33, 50, 60, 80$. Observeu però, que no és única."
   ]
  },
  {
   "cell_type": "code",
   "execution_count": 3,
   "metadata": {},
   "outputs": [],
   "source": [
    "def lis_ends_here(seq, n):\n",
    "    \"\"\"\n",
    "    Aquesta funció ens retorna la longitud de la seqüència més llarga que acaba a la posició 'n'.\n",
    "    \n",
    "    Params\n",
    "    ======\n",
    "    :seq: Llista d'elements\n",
    "    :n: Índex de la llista\n",
    "    \n",
    "    Returns\n",
    "    =======\n",
    "    :val: Longitud de la LIS suposant que finalitza a 'n'.\n",
    "    \"\"\"\n",
    "    # Cas base, estem considerant de 1 sol element (l'únic que té).\n",
    "    if n==0:\n",
    "        return 1\n",
    "    \n",
    "    # Si n>1 podem cridar recursivament per preguntar el valor de seqüències més petites.\n",
    "    # En el cas que n=3, comprovarem les seqüències que acaben en l'element 2 i recursivament \n",
    "    # les que acaben en l'element 1 i l'element 0.\n",
    "    val = 1\n",
    "    for i in range(n-1, -1, -1):\n",
    "        # Si trobem un element menor anterior, com a mínim incrementem en 1 el valor a retornar\n",
    "        if seq[i] < seq[n]:\n",
    "            val = max(val, 1+lis_ends_here(seq, i))\n",
    "    return val\n",
    "\n",
    "def lis_rec(seq):\n",
    "    \"\"\"\n",
    "    Solució recursiva al problema LIS.\n",
    "    \"\"\"\n",
    "    # Busquem tots els candidats i escollim el maxim\n",
    "    candidates = [lis_ends_here(seq, i) for i in range(len(seq))]\n",
    "    print(candidates)\n",
    "    return max(candidates)"
   ]
  },
  {
   "cell_type": "code",
   "execution_count": 4,
   "metadata": {},
   "outputs": [
    {
     "name": "stdout",
     "output_type": "stream",
     "text": [
      "[1, 2, 1, 3, 3, 4, 4, 5, 6]\n",
      "6\n",
      "[1, 1, 2, 1]\n",
      "2\n",
      "[1, 2, 1, 2]\n",
      "2\n"
     ]
    }
   ],
   "source": [
    "print(lis_rec([1,2,0,9,3,5,4,6,8]))  # Retorna 6\n",
    "print(lis_rec([4,1,2,1]))            # Retorna 2\n",
    "print(lis_rec([5,7,1,6]))            # Retorna 2"
   ]
  },
  {
   "cell_type": "code",
   "execution_count": 5,
   "metadata": {},
   "outputs": [],
   "source": [
    "def lis_dp_bottom_up(seq):\n",
    "    \"\"\"\n",
    "    Solució al problema LIS usant programació dinàmica.\n",
    "    \"\"\"\n",
    "    n = len(seq)\n",
    "    \n",
    "    # Inicialitzem una llista on anirem guardant els resultats\n",
    "    dp = [1]*n\n",
    "    \n",
    "    # Iterem. Suposem que la seqüència màxima acaba a la posició i=0,...,n-1\n",
    "    for i in range(1, n):        \n",
    "        # Mirem tots els anteriors i, en cas que trobem una parella d'elements en ordre,\n",
    "        # modifiquem la llista        \n",
    "        for j in range(0, i):\n",
    "            if seq[j] < seq[i]:\n",
    "                dp[i] = max(dp[i], dp[j] + 1)\n",
    "                \n",
    "    return max(dp)"
   ]
  },
  {
   "cell_type": "code",
   "execution_count": 6,
   "metadata": {},
   "outputs": [
    {
     "name": "stdout",
     "output_type": "stream",
     "text": [
      "6\n",
      "2\n",
      "2\n"
     ]
    }
   ],
   "source": [
    "print(lis_dp_bottom_up([1,2,0,9,3,5,4,6,8])) # Retorna 6\n",
    "print(lis_dp_bottom_up([4,1,2,1]))           # Retorna 2\n",
    "print(lis_dp_bottom_up([5,7,1,6]))           # Retorna 2"
   ]
  },
  {
   "cell_type": "markdown",
   "metadata": {},
   "source": [
    "# Problema 2: Problema de la motxilla\n",
    "Implementeu la funció <b>knapsack</b>. Donat un nombre enter positiu, $W$, que defineix la capacitat (en Kg) màxima de la motxilla, una llista d'enters, $weights$, que definex el pes dels objectes i una llista d'enters, $values$, que indica el valor dels objectes, retorneu el valor màxim que podem ficar dins la motxilla. <br>\n",
    "\n",
    "<b>Quina és la complexitat de l'algorisme?</b>"
   ]
  },
  {
   "attachments": {
    "38fe31ed-0ac9-4d18-89d8-21b28d705073.png": {
     "image/png": "[encoded data removed]"
    }
   },
   "cell_type": "markdown",
   "metadata": {},
   "source": [
    "![knapsack.png](attachment:38fe31ed-0ac9-4d18-89d8-21b28d705073.png)<p>\n",
    "    \n",
    "Exemple:\n",
    "- Número d'items: 6\n",
    "- Preus dels ítems: 6, 4, 5, 3, 9, 7\n",
    "- Pesos dels ítems: 4, 2, 3, 1, 6, 4\n",
    "- Capacitat de la motxilla: 10"
   ]
  },
  {
   "cell_type": "code",
   "execution_count": 7,
   "metadata": {},
   "outputs": [],
   "source": [
    "def knapsack(W, weights, values, n):\n",
    "    \"\"\"\n",
    "    Implementa la solució al problema de la motxilla.\n",
    "\n",
    "    Params\n",
    "    ======\n",
    "    :W: Capacitat màxima de la motxilla\n",
    "    :weights : llista d'enters amb els pesos dels objectes\n",
    "    :values : llista d'enters amb els valors dels objectes\n",
    "    :n: numero d'objectes\n",
    "    \n",
    "    Returns\n",
    "    =======\n",
    "    :value: valor màxim que podem ficar dins la motxilla\n",
    "    \"\"\"\n",
    "    \n",
    "    # Inicialitzem la taula de programació dinàmica.\n",
    "    # Cada cel·la (i,w) ens retornarà el valor màxim que podem obtenir considerant els 'i' primers objectes\n",
    "    # tals que el seu pes total és inferior o igual a w.\n",
    "    K = [[0 for x in range(W+1)] for x in range (n+1)]\n",
    "    \n",
    "    # La variable i ens controla els diferents objectes que tenim.\n",
    "    for i in range(n+1):\n",
    "        \n",
    "        # La variable w ens controla el pes total que estem considerant fins al moment\n",
    "        for w in range(W+1):\n",
    "            \n",
    "            # Si no tenim cap objecte o si el pes màxim que estem considerant és 0, no podem posar cap objecte.\n",
    "            if(i==0) or (w==0):\n",
    "                K[i][w] = 0\n",
    "            # En el cas en que l'objecte a considerar estigui dins el pes permès, mirem si el podem afegir (si maximitza el valor)\n",
    "            elif weights[i-1] <= w:\n",
    "                K[i][w] = max(values[i-1] + K[i-1][w-weights[i-1]], K[i-1][w])\n",
    "            \n",
    "            # En cas que l'objecte no estigui dins el pes permès, no modifiquem el valor\n",
    "            else:\n",
    "                K[i][w] = K[i-1][w]\n",
    "    \n",
    "    value = K[n][W] #resultat ultima fila i ultima columna\n",
    "    \n",
    "    # Print\n",
    "    for line in K:\n",
    "        for elm in line:\n",
    "            print(f'{elm:>3}',end='')\n",
    "        print()\n",
    "    return value"
   ]
  },
  {
   "cell_type": "markdown",
   "metadata": {},
   "source": [
    "#### COMPLEXITAT DE KNAPSACK\n",
    "Creem una matriu que un cop la recorrem ya trobem la solucio\n",
    "\n",
    "primer bulce for de tamany n que es el numero de objectes a utilitzar\n",
    "segon bucle for que esta anidat indica el pes maxim que cap a la motxila rang(0,W)\n",
    "\n",
    "per tant la complexitat és:\n",
    "<b>O(n*W)<br>"
   ]
  },
  {
   "cell_type": "code",
   "execution_count": 8,
   "metadata": {},
   "outputs": [
    {
     "name": "stdout",
     "output_type": "stream",
     "text": [
      "  0  0  0  0  0\n",
      "  0  6  6  6  6\n",
      "  0  6 10 16 16\n",
      "  0  6 10 16 18\n",
      "18\n"
     ]
    }
   ],
   "source": [
    "W = 4\n",
    "values = [6, 10, 12]\n",
    "weights = [1, 2, 3]\n",
    "n = len(values)\n",
    "print(knapsack(W, weights, values, n))  # Retorna 18"
   ]
  },
  {
   "cell_type": "code",
   "execution_count": 9,
   "metadata": {},
   "outputs": [
    {
     "name": "stdout",
     "output_type": "stream",
     "text": [
      "  0  0  0  0  0  0  0  0  0  0  0\n",
      "  0  0  0  0  6  6  6  6  6  6  6\n",
      "  0  0  4  4  6  6 10 10 10 10 10\n",
      "  0  0  4  5  6  9 10 11 11 15 15\n",
      "  0  3  4  7  8  9 12 13 14 15 18\n",
      "  0  3  4  7  8  9 12 13 14 16 18\n",
      "  0  3  4  7  8 10 12 14 15 16 19\n",
      "19\n"
     ]
    }
   ],
   "source": [
    "W = 10\n",
    "values = [6,4,5,3,9,7]\n",
    "weights = [4,2,3,1,6,4]\n",
    "n = len(values)\n",
    "print(knapsack(W, weights, values, n))  # Retorna 19"
   ]
  },
  {
   "cell_type": "code",
   "execution_count": 10,
   "metadata": {},
   "outputs": [
    {
     "name": "stdout",
     "output_type": "stream",
     "text": [
      "  0  0  0  0  0  0  0  0  0  0  0  0  0  0  0  0  0  0  0  0  0  0  0  0  0  0  0  0  0  0  0  0  0  0  0  0  0  0  0  0  0\n",
      "  0  0  0  0  0  0  0  0  0  0 60 60 60 60 60 60 60 60 60 60 60 60 60 60 60 60 60 60 60 60 60 60 60 60 60 60 60 60 60 60 60\n",
      "  0  0  0  0  0  0  0  0  0  0 60 60 60 60 60 60 60 60 60 60100100100100100100100100100100160160160160160160160160160160160\n",
      "  0  0  0  0  0  0  0  0  0  0 60 60 60 60 60 60 60 60 60 60100100100100100100100100100100160160160160160160160160160160180\n",
      "180\n"
     ]
    }
   ],
   "source": [
    "W = 40\n",
    "values = [60, 100, 120]\n",
    "weights = [10, 20, 30]\n",
    "n = len(values)\n",
    "print(knapsack(W, weights, values, n))  # Retorna 180"
   ]
  },
  {
   "cell_type": "markdown",
   "metadata": {
    "tags": []
   },
   "source": [
    "# Problema 3: Travelling Salesman Problem\n",
    "\n",
    "Implementeu la funció <b>travelling_salesman</b>. Seguiu una estratègia de programació dinàmica on aneu emmagatzemant càlculs realitzats prèviament.<br><br> \n",
    "<b>Quina és la complexitat de l'algorisme?</b>"
   ]
  },
  {
   "cell_type": "code",
   "execution_count": 43,
   "metadata": {},
   "outputs": [],
   "source": [
    "from itertools import combinations\n",
    "from collections import defaultdict\n",
    "from sys import maxsize\n",
    "\n",
    "\n",
    "def travelling_salesman(G):\n",
    "    \"\"\"\n",
    "    Aquesta funció implementa la solució al TSP (Travelling Salesman Problem)\n",
    "    \n",
    "    Params\n",
    "    ======\n",
    "    :G: Un objecte de la classe nx.DiGraph\n",
    "    \n",
    "    Returns\n",
    "    =======\n",
    "    :value: El cost mínim de visitar tots els nodes\n",
    "    \"\"\"\n",
    "    n = len(G.nodes)\n",
    "    # memoization table to store the computed results for subproblems\n",
    "    memo = {}\n",
    "\n",
    "    # Convert the graph to a distance dictionary for efficient lookups\n",
    "    distances = {(i, j): G.get_edge_data(i, j)['weight'] if G.has_edge(i, j) else float('inf') for i in range(n) for j in range(n)}\n",
    "    \n",
    "    def tsp_helper(visited, last_visited):\n",
    "        # base case: all cities have been visited\n",
    "        if len(visited) == n:\n",
    "            return distances[last_visited, 0]  # return to the starting city\n",
    "\n",
    "        # check if the result for this subproblem is already computed\n",
    "        if (tuple(visited), last_visited) in memo:\n",
    "            return memo[(tuple(visited), last_visited)]\n",
    "\n",
    "        min_cost = maxsize\n",
    "\n",
    "        # try all possible next cities\n",
    "        for next_city in range(n):\n",
    "            if next_city not in visited:\n",
    "                new_visited = visited + [next_city]\n",
    "                cost = distances[last_visited, next_city] + tsp_helper(new_visited, next_city)\n",
    "                min_cost = min(min_cost, cost)\n",
    "\n",
    "        # memoize the result and return it\n",
    "        memo[(tuple(visited), last_visited)] = min_cost\n",
    "        return min_cost\n",
    "\n",
    "    # start the recursion with an empty set of visited cities and the starting city (0)\n",
    "    return tsp_helper([0], 0)"
   ]
  },
  {
   "cell_type": "markdown",
   "metadata": {},
   "source": [
    "#### COMPLEXITAT DE TSP dynamic programming\n",
    "\n",
    "1) Creación de la matriz de distancias: <b>O(n²)</b>\n",
    "2) Función tsp_helper = la recursión se realiza para todas las permutaciones posibles de ciudades no visitadas. En el peor caso, cada ciudad puede ser visitada o no, lo que lleva a: <b>O(2^n)</b>"
   ]
  },
  {
   "cell_type": "code",
   "execution_count": 94,
   "metadata": {},
   "outputs": [
    {
     "data": {
      "image/png": "[encoded data removed]",
      "text/plain": [
       "<Figure size 600x300 with 1 Axes>"
      ]
     },
     "metadata": {},
     "output_type": "display_data"
    },
    {
     "data": {
      "text/plain": [
       "9"
      ]
     },
     "execution_count": 94,
     "metadata": {},
     "output_type": "execute_result"
    }
   ],
   "source": [
    "# Matriu de pesos del graf que volem crear\n",
    "A = np.array([[0,4,1,9],\n",
    "              [3,0,6,11],\n",
    "              [4,1,0,2],\n",
    "              [6,5,-4,0]])\n",
    "#A = np.array([[0,3,4,6],[4,0,1,5],[1,6,0,-4],[9,11,2,0]])\n",
    "#A = np.array([[0,10,15,20],[10,0,35,25],[15,35,0,30],[20,25,30,0]])\n",
    "G = nx.from_numpy_array(A,create_using=nx.DiGraph)\n",
    "\n",
    "fig = plt.figure(figsize=(6,3))\n",
    "\n",
    "# Si voleu executar grafs amb més de 4 nodes, podeu canviar el layout a spring_layout\n",
    "pos=nx.planar_layout(G) \n",
    "nx.draw(G, pos,with_labels=True,connectionstyle='arc3, rad = 0.1', ax=fig.gca())\n",
    "labels = nx.get_edge_attributes(G,'weight')\n",
    "my_draw_networkx_edge_labels(G,pos,edge_labels=labels, rad=0.1,rotate=False)\n",
    "plt.show()\n",
    "\n",
    "res = travelling_salesman(G)\n",
    "res   # Retorna 9"
   ]
  },
  {
   "cell_type": "markdown",
   "metadata": {},
   "source": [
    "# Problema 4: Train Sorting\n",
    "Implementeu la funció <b>train_sorting</b>. Seguiu una estratègia de programació dinàmica .\n",
    "\n",
    "L'Èric és enginyer. Condueix trens però també organitza els vagons dins cada tren. Prefereix posar els vagons en ordre decreixent de pes, amb el vagó més pesat al davant del tren.\n",
    "Malauradament, classificar els vagons de tren no és fàcil. Els vagons arriben a l'estació de tren en un ordre predeterminat i no es pot simplement agafar un vagó i col·locar-lo en un lloc qualsevol.\n",
    "Quan arriba un vagó, l'Èric pot afegir-lo al principi o al final del seu tren, o negar-se a afegir-lo. El tren resultant ha de ser el més llarg possible, però els vagons que conté han d'estar ordenats per pes.</p>\n",
    "Tenint en compte els pesos dels vagons en l'ordre en què arriben, quin és el tren més llarg que pot fer l'Èric?"
   ]
  },
  {
   "cell_type": "code",
   "execution_count": 73,
   "metadata": {},
   "outputs": [],
   "source": [
    "def train_sorting(values):\n",
    "    \"\"\"\n",
    "    Calcula la longitd màxima que pot tenir el tren\n",
    "    \n",
    "    Params\n",
    "    ======\n",
    "    :values: Vector d'enters que indica el pes del vagons en l'ordre en que arriben a l'estació\n",
    "    \n",
    "    Returns\n",
    "    =======\n",
    "    :d: La longitud màxima del tren\n",
    "    \"\"\"\n",
    "    total = len(values)\n",
    "    \n",
    "    trens = [1]*total\n",
    "    \n",
    "    min_pes = values[0]\n",
    "    \n",
    "    for i in range(1, total):\n",
    "        for j in range(i+1):\n",
    "            if(values[i] < min_pes):\n",
    "                min_pes = values[i]\n",
    "                trens = [x + 1 for x in trens[:i]] #augmentem 1unitat perque hem afegit al principi, aquell tindra valor 1, es l'inicial ara\n",
    "            if(values[j] < values[i] and trens[j] >= trens[i]):\n",
    "                trens[i] = trens[j]+1\n",
    "    \n",
    "    return max(trens)"
   ]
  },
  {
   "cell_type": "code",
   "execution_count": 77,
   "metadata": {},
   "outputs": [
    {
     "name": "stdout",
     "output_type": "stream",
     "text": [
      "5\n"
     ]
    }
   ],
   "source": [
    "values = [1,2,3,2,5,3,0]\n",
    "print(train_sorting(values))  # Retorna 4"
   ]
  },
  {
   "cell_type": "markdown",
   "metadata": {},
   "source": [
    "# Problema 5: Longest Palindromic Subsequence\n",
    "Donada una seqüencia de text, volem trobar la longitud del palindom més llarg. Un palíndrom és una paraula que es llegeix igual d'esquerra a dreta que de dreta a esquerra.<br><br>\n",
    "     Exemple: BBABCBCAB <br>\n",
    "     Solució: longitud 7 ( BABCBAB )<br><br>\n",
    "Trobeu una solució bottom-up amb programació dinàmica"
   ]
  },
  {
   "cell_type": "code",
   "execution_count": null,
   "metadata": {},
   "outputs": [],
   "source": [
    "\"\"\"\n",
    "# Aquí teniu la solució per força bruta\n",
    " ## FUNCIÓ :\n",
    "    if i == j:\n",
    "        return 1  # cas base 1, sequencia d'un únic caràcter\n",
    "    \n",
    "    if (seq[i] == seq[j]) and (i + 1 == j):\n",
    "        return 2 # cas base 2, sequencia de dos caràcters\n",
    "    \n",
    "    if (seq[i] == seq[j]):\n",
    "        return longest_palindrom_subsequence_brute_force(seq, i + 1, j - 1) + 2  # Si els dos elements són iguals\n",
    "    \n",
    "    return max(longest_palindrom_subsequence_brute_force(seq, i, j - 1),\n",
    "               longest_palindrom_subsequence_brute_force(seq, i + 1, j))  # Si són diferents\n",
    "\"\"\""
   ]
  },
  {
   "cell_type": "code",
   "execution_count": 39,
   "metadata": {},
   "outputs": [
    {
     "name": "stdout",
     "output_type": "stream",
     "text": [
      "7\n"
     ]
    }
   ],
   "source": [
    "seq = 'BBABCBCAB'\n",
    "print(longest_palindrom_subsequence_brute_force(seq,0,len(seq)-1))"
   ]
  },
  {
   "cell_type": "code",
   "execution_count": 82,
   "metadata": {},
   "outputs": [],
   "source": [
    "def longest_palindrom_subsequence_dp(seq):\n",
    "    \"\"\"\n",
    "    Algorisme usant una estratègia bottom-up\n",
    "    \n",
    "    Params\n",
    "    ======\n",
    "    :text: El text que estem considerant\n",
    "    \n",
    "    Returns\n",
    "    =======\n",
    "    :d: La longitud del palindrom més llarg\n",
    "    \"\"\"\n",
    "    n = len(seq)\n",
    "    dp = [[0] * n for i in range(n)]\n",
    "    \n",
    "    for i in range(n):\n",
    "        dp[i][i] = 1 # la daigonal son subsequencies de 1\n",
    "        \n",
    "    # Matrix triangular superior\n",
    "    for cl in range(2, n + 1):\n",
    "        for i in range(n - cl + 1):\n",
    "            j = i + cl - 1\n",
    "            if seq[i] == seq[j] and cl == 2:\n",
    "                dp[i][j] = 2\n",
    "            elif seq[i] == seq[j]:\n",
    "                dp[i][j] = dp[i + 1][j - 1] + 2\n",
    "            else:\n",
    "                dp[i][j] = max(dp[i][j - 1], dp[i + 1][j])\n",
    "                \n",
    "    return dp[0][n - 1]\n"
   ]
  },
  {
   "cell_type": "code",
   "execution_count": 83,
   "metadata": {},
   "outputs": [
    {
     "name": "stdout",
     "output_type": "stream",
     "text": [
      "7\n"
     ]
    }
   ],
   "source": [
    "seq = 'BBABCBCAB'\n",
    "print(longest_palindrom_subsequence_dp(seq))"
   ]
  }
 ],
 "metadata": {
  "kernelspec": {
   "display_name": "Python 3 (ipykernel)",
   "language": "python",
   "name": "python3"
  },
  "language_info": {
   "codemirror_mode": {
    "name": "ipython",
    "version": 3
   },
   "file_extension": ".py",
   "mimetype": "text/x-python",
   "name": "python",
   "nbconvert_exporter": "python",
   "pygments_lexer": "ipython3",
   "version": "3.10.9"
  }
 },
 "nbformat": 4,
 "nbformat_minor": 4
}

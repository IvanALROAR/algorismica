{
 "cells": [
  {
   "cell_type": "markdown",
   "metadata": {},
   "source": [
    "<div style=\"padding:30px; color: white; background-color: #0071CD\">\n",
    "<center>\n",
    "<img src=\"img/logoub.jpeg\"></img>\n",
    "<center>\n",
    "<h1>Algorísmica Avançada</h1>\n",
    "<h2>Programació Dinàmica</h2>\n",
    "</center>\n",
    "</div>"
   ]
  },
  {
   "cell_type": "code",
   "execution_count": 36,
   "metadata": {},
   "outputs": [
    {
     "data": {
      "text/html": [
       "<style>.container { width:100% !important; }</style>"
      ],
      "text/plain": [
       "<IPython.core.display.HTML object>"
      ]
     },
     "metadata": {},
     "output_type": "display_data"
    }
   ],
   "source": [
    "from IPython.display import display, HTML\n",
    "display(HTML(\"<style>.container { width:100% !important; }</style>\"))"
   ]
  },
  {
   "cell_type": "markdown",
   "metadata": {},
   "source": [
    "### TOP-DOWN = recursiu (guardant resultats anteriors) \n",
    "/// \n",
    "### BOTTOM-UP = iteratiu començant desde baix"
   ]
  },
  {
   "cell_type": "markdown",
   "metadata": {},
   "source": [
    "# Programació dinàmica vs Recursió"
   ]
  },
  {
   "cell_type": "markdown",
   "metadata": {},
   "source": [
    "Quan tenim un algorisme recursiu que crida múltiples vegades el mateix subproblema, cal veure si hi ha la possibilitat de convertir-ho en un algorisme de programació dinàmica. El cas de <b>Fibonacci</b> és un clar exemple ja que per a calcular el fibonacci d'un número en concret cal haver calculat el fibonnaci dels seus dos números anteriors.\n",
    "\n",
    "Al fer-ho recursivament estarem generant el següent arbre de crides:\n",
    "\n",
    "<img src=\"img/fibonacci.png\">\n",
    "\n",
    "Com podeu observar, moltes de les crides que fem ens les podem estalviar doncs amb calcular un sol cop el fibonacci de cada nombre en tenim suficient. La programació dinàmica ens ajuda en aquest cas."
   ]
  },
  {
   "cell_type": "markdown",
   "metadata": {
    "tags": []
   },
   "source": [
    "# Problema 1.1: Fibonacci recursiu\n",
    "\n",
    "Implementeu la funció <b>fib_rec</b>. Donat un nombre enter positiu o zero, $n$, ha de retornar el nombre de fibonacci, $F(n)$ que li correspon. <br>\n",
    "Per exemple: <br>\n",
    "        $$F(0)=0, \\quad F(1)=1, \\quad F(2)=1, \\quad F(3)=2, \\quad F(4)=3, \\quad F(5)=5$$\n",
    "\n",
    "Quina és la complexitat de l'algorisme? (Observeu l'arbre de la imatge anterior)"
   ]
  },
  {
   "cell_type": "code",
   "execution_count": 2,
   "metadata": {},
   "outputs": [],
   "source": [
    "def fib_rec(n):\n",
    "    \"\"\"\n",
    "    Calcula el nombre amb índex 'n' de la seqüència de Fibonacci.\n",
    "    \n",
    "    Params\n",
    "    ======\n",
    "    :n: El nombre de fibonacci que volem calcular.\n",
    "    \n",
    "    Returns\n",
    "    =======\n",
    "    :F(n): El nombre de la seqüència corresponent.\n",
    "    \"\"\"\n",
    "    if n == 0:\n",
    "        return 0\n",
    "    if n == 1:\n",
    "        return 1\n",
    "        \n",
    "    return fib_rec(n-1)+fib_rec(n-2)\n",
    "    "
   ]
  },
  {
   "cell_type": "code",
   "execution_count": 3,
   "metadata": {},
   "outputs": [
    {
     "name": "stdout",
     "output_type": "stream",
     "text": [
      "[0, 1, 1, 2, 3, 5, 8, 13, 21, 34, 55, 89, 144, 233, 377, 610, 987, 1597, 2584, 4181]\n"
     ]
    }
   ],
   "source": [
    "print([fib_rec(n) for n in range(20)])"
   ]
  },
  {
   "cell_type": "markdown",
   "metadata": {},
   "source": [
    "##### COMPLEXITAT DE FIBONACCI RECURSIU\n",
    "\n",
    "Si definim <b>T(n)</b> como el número total d'operacions (llamades recursives) necesaries para calcular fib_rec(n).\n",
    "    <b>T(n)=T(n−1)+T(n−2)+1</b> (+1 es lo cost constant asociat a la suma).\n",
    "\n",
    "Per tant la solució de recurrencia creix exponencial perque cad cop es criden dos noves funcions i per tant: \n",
    "        \n",
    "<b>O(2^n)</b>"
   ]
  },
  {
   "cell_type": "markdown",
   "metadata": {},
   "source": [
    "# Problema 1.2: Fibonacci amb programació dinàmica (Top-Down)\n",
    "\n",
    "Implementeu la funció <b>fib_top_down</b>. Seguiu una estratègia de programació dinàmica utilitzant el mateix esquema que fibonacci recursiu però on aneu emmagatzemant els càlculs realitzats prèviament."
   ]
  },
  {
   "cell_type": "code",
   "execution_count": 4,
   "metadata": {},
   "outputs": [],
   "source": [
    "def fib_top_down(n, dp=None):\n",
    "    \n",
    "    # Inicialització\n",
    "    if dp is None:\n",
    "        dp = [0]*(n+1)\n",
    "    \n",
    "    if n == 0:\n",
    "        return 0\n",
    "    if n == 1:\n",
    "        return 1\n",
    "        \n",
    "    if dp[n] != 0:\n",
    "        return dp[n]\n",
    "    \n",
    "    dp[n] = fib_top_down(n-1, dp)+ fib_top_down(n-2, dp)\n",
    "        \n",
    "    return dp[n]"
   ]
  },
  {
   "cell_type": "code",
   "execution_count": 5,
   "metadata": {},
   "outputs": [
    {
     "name": "stdout",
     "output_type": "stream",
     "text": [
      "[0, 1, 1, 2, 3, 5, 8, 13, 21, 34, 55, 89, 144, 233, 377, 610, 987, 1597, 2584, 4181]\n"
     ]
    }
   ],
   "source": [
    "print([fib_top_down(n) for n in range(20)])"
   ]
  },
  {
   "cell_type": "markdown",
   "metadata": {},
   "source": [
    "# Problema 1.2: Fibonacci amb programació dinàmica (Bottom-Up)\n",
    "\n",
    "Implementeu la funció <b>fib_bottom_up</b>. Seguiu una estratègia de programació dinàmica on aneu emmagatzemant càlculs realitzats prèviament.<br><br> \n",
    "<b>Quina és la complexitat de l'algorisme?</b>"
   ]
  },
  {
   "cell_type": "code",
   "execution_count": 6,
   "metadata": {},
   "outputs": [],
   "source": [
    "def fib_bottom_up(n):\n",
    "    \n",
    "    dp = [0,1] + [0]*(n-1)\n",
    "    \n",
    "    for i in range(2, n+1):\n",
    "        dp[i] = dp[i-1]+dp[i-2]\n",
    "    \n",
    "    if n == 0:\n",
    "        return dp[0]\n",
    "    \n",
    "    return dp[-1]"
   ]
  },
  {
   "cell_type": "code",
   "execution_count": 7,
   "metadata": {},
   "outputs": [
    {
     "name": "stdout",
     "output_type": "stream",
     "text": [
      "[0, 1, 1, 2, 3, 5, 8, 13, 21, 34, 55, 89, 144, 233, 377, 610, 987, 1597, 2584, 4181]\n"
     ]
    }
   ],
   "source": [
    "print([fib_bottom_up(n) for n in range(20)])"
   ]
  },
  {
   "cell_type": "markdown",
   "metadata": {},
   "source": [
    "##### COMPLEXITAT FIBONACCIO PROGRAMACIO DINAMICA\n",
    "\n",
    "Clarament te un cost de <b>O(n)</b>\n",
    "\n",
    "Primer que tot es crea una llista de tamany per guardar tots valors fins el de la posició n de la successió\n",
    "\n",
    "Seguidament es recorre tota la llista assignant a la posicio actual la suma dels dos anteriors de la llista (te cost 1 la suma i l'assignacio del valor)"
   ]
  },
  {
   "cell_type": "markdown",
   "metadata": {},
   "source": [
    "# Problema 2: Rod Cutting\n",
    "\n",
    "Volem tallar una barra de N segments de longitud en trossos per maximitzar-ne el seu valor de venta. Cada segment tallat té un preu associat en funció de la seva longitud.<br>"
   ]
  },
  {
   "cell_type": "code",
   "execution_count": 8,
   "metadata": {},
   "outputs": [
    {
     "data": {
      "image/png": "[encoded data removed]",
      "text/plain": [
       "<Figure size 600x300 with 1 Axes>"
      ]
     },
     "metadata": {},
     "output_type": "display_data"
    }
   ],
   "source": [
    "from matplotlib import pyplot as plt\n",
    "im = plt.imread('img/07-rodcutting-example-2.jpg')\n",
    "fig, ax = plt.subplots(figsize=(6, 3))\n",
    "ax.imshow(im)\n",
    "plt.show()"
   ]
  },
  {
   "cell_type": "markdown",
   "metadata": {},
   "source": [
    "Per exemple, donada una barra de 5 peces de longitud i la taula de preus següent: <br><br>\n",
    "     Long: 1 2 3 4 5<br>\n",
    "     Preu: 1 5 5 6 7<br><br>\n",
    " Podem decidir:\n",
    "   - no tallar la barra, long=5 i per tant preu=7.\n",
    "   - Tallar-la en dos trossos de 1 i 4 i per tant preu=1+6=7\n",
    "   - Tallar-la en cinc trossos de 1 i per tant preu=5\n",
    "   ..."
   ]
  },
  {
   "cell_type": "code",
   "execution_count": 9,
   "metadata": {},
   "outputs": [],
   "source": [
    "def rod_cutting_rec(N, prices):\n",
    "    \"\"\"\n",
    "    Algorisme recursiu.\n",
    "    \n",
    "    Params\n",
    "    ======\n",
    "    :N: Un enter amb el nombre de segments de la barra\n",
    "    :prices: Una llista amb els preus de cada longitud de segment.\n",
    "    \n",
    "    Returns\n",
    "    =======\n",
    "    :best: El millor preu de venta de les peces\n",
    "    \"\"\"\n",
    "    \n",
    "    best = 0\n",
    "    \n",
    "    preus = {}\n",
    "    for i in range(1, N+1):\n",
    "        preus[i] = prices[i-1]\n",
    "    \n",
    "    if N == 0:\n",
    "        return 0\n",
    "    if N == 1:\n",
    "        return preus[1]\n",
    "    \n",
    "    for i in range(0, N):\n",
    "        best = max(best, rod_cutting_rec(i, prices)+preus[N-i])\n",
    "    # best = max([rod_cutting_rec(i,prices)+preus[N-i] for i in range(N)])\n",
    "    \n",
    "    return best"
   ]
  },
  {
   "cell_type": "code",
   "execution_count": 10,
   "metadata": {},
   "outputs": [
    {
     "data": {
      "text/plain": [
       "11"
      ]
     },
     "execution_count": 10,
     "metadata": {},
     "output_type": "execute_result"
    }
   ],
   "source": [
    "rod_cutting_rec(5, [1,5,5,6,7]) # Retorna 11"
   ]
  },
  {
   "cell_type": "code",
   "execution_count": 11,
   "metadata": {},
   "outputs": [],
   "source": [
    "def rod_cutting_dp_bottom_up(N, prices):    \n",
    "    best = 0\n",
    "    \n",
    "    preus = {}\n",
    "    for i in range(1, N+1):\n",
    "        preus[i] = prices[i-1]\n",
    "    \n",
    "    dp = [0,preus[1]] + [0]*(N-1)\n",
    "    \n",
    "    if N == 0 or N == 1:\n",
    "        return dp[N]\n",
    "    \n",
    "    for i in range(1, N+1):\n",
    "        dp[i] = max([dp[j]+preus[i-j] for j in range(i)])\n",
    "    \n",
    "    return max(dp)"
   ]
  },
  {
   "cell_type": "code",
   "execution_count": 12,
   "metadata": {},
   "outputs": [
    {
     "data": {
      "text/plain": [
       "11"
      ]
     },
     "execution_count": 12,
     "metadata": {},
     "output_type": "execute_result"
    }
   ],
   "source": [
    "rod_cutting_dp_bottom_up(5,[1,5,5,6,7]) # Retorna 11"
   ]
  },
  {
   "cell_type": "code",
   "execution_count": 14,
   "metadata": {},
   "outputs": [],
   "source": [
    "def rod_cutting_dp_top_down(N, prices, dp=None):    \n",
    "    best = 0\n",
    "    \n",
    "    # EL TEU CODI AQUÍ\n",
    "    preus = {}\n",
    "    for i in range(1, N+1):\n",
    "        preus[i] = prices[i-1]\n",
    "    \n",
    "    dp = [0,preus[1]] + [0]*(N-1)\n",
    "    \n",
    "    if N == 0:\n",
    "        dp[0] = 0\n",
    "    if N == 1:\n",
    "        dp[1] = preus[1]\n",
    "    \n",
    "    for i in range(0, N):\n",
    "        dp[i] = max(dp[i], rod_cutting_rec(i, prices)+preus[N-i])\n",
    "    \n",
    "    # dp[i] = max([rod_cutting_rec(i,prices)+preus[N-i] for i in range(N)])\n",
    "    \n",
    "    return max(dp)"
   ]
  },
  {
   "cell_type": "code",
   "execution_count": 15,
   "metadata": {},
   "outputs": [
    {
     "data": {
      "text/plain": [
       "11"
      ]
     },
     "execution_count": 15,
     "metadata": {},
     "output_type": "execute_result"
    }
   ],
   "source": [
    "rod_cutting_dp_top_down(5, [1,5,5,6,7]) # Retorna 11"
   ]
  },
  {
   "cell_type": "markdown",
   "metadata": {},
   "source": [
    "# Problema 3: Subseqüència Incremental més Llarga (Longest Increasing Subsequence, LIS)\n",
    "Donada una seqüència de números, per exemple: $10, 22, 9, 33, 21, 50, 41, 60, 80$, volem trobar la subsequència d'elements més llarga possible que satisfaci que els seus elements estiguin ordenats de petit a gran.<br>\n",
    "En el cas de l'exemple donat, la subseqüència més llarga té 6 elements: $10, 22, 33, 50, 60, 80$. Observeu però, que no és única."
   ]
  },
  {
   "cell_type": "markdown",
   "metadata": {},
   "source": [
    "# Problema 3.1: LIS Recursiva\n",
    "<b>Quina complexitat té aquest algorisme?</b></p>"
   ]
  },
  {
   "cell_type": "code",
   "execution_count": 19,
   "metadata": {},
   "outputs": [],
   "source": [
    "def lis_ends_here(seq, n):\n",
    "    \"\"\"\n",
    "    Aquesta funció ens retorna la longitud de la seqüència més llarga que acaba a la posició 'n'.\n",
    "    \n",
    "    Params\n",
    "    ======\n",
    "    :seq: Llista d'elements\n",
    "    :n: Índex de la llista\n",
    "    \n",
    "    Returns\n",
    "    =======\n",
    "    :val: Longitud de la LIS suposant que finalitza a 'n'.\n",
    "    \"\"\"\n",
    "    if n == 1:\n",
    "        return 1\n",
    "    \n",
    "    maxim = 1\n",
    "    for i in range(1,n):\n",
    "        result = lis_ends_here(seq, i)\n",
    "        \n",
    "        if seq[i-1] < seq[n-1] and result + 1 > maxim:\n",
    "            maxim = result + 1\n",
    "    \n",
    "    return max(maxim, lis_ends_here(seq, n - 1))\n",
    "\n",
    "\n",
    "def lis_rec(seq):\n",
    "    \"\"\"\n",
    "    Solució recursiva al problema LIS.\n",
    "    \n",
    "    Params\n",
    "    ======\n",
    "    :seq: Seqüència inicial.\n",
    "    \n",
    "    Returns\n",
    "    =======\n",
    "    :val: Longitud de LIS.\n",
    "    \"\"\"\n",
    "          \n",
    "    return lis_ends_here(seq, len(seq))"
   ]
  },
  {
   "cell_type": "code",
   "execution_count": 20,
   "metadata": {},
   "outputs": [
    {
     "name": "stdout",
     "output_type": "stream",
     "text": [
      "6\n",
      "2\n"
     ]
    }
   ],
   "source": [
    "print(lis_rec([1,2,0,9,3,5,4,6,8]))  # Retorna 6\n",
    "print(lis_rec([4,1,2,1]))            # Retorna 2"
   ]
  },
  {
   "cell_type": "markdown",
   "metadata": {},
   "source": [
    "##### COMPLEXITAT LIS RECURSIU:\n",
    "En l'anterior codi si anomenem igual que abans <b>T(n)</b> la relació de recurrencia en complexitat de temps per la variable n.<br>\n",
    "Obtenim que T(n) = T(n-1) + T(n-2) + ... + T(1)<br>\n",
    "per tant si aixo ho anem desenvolupant per cada T(n-i) acabem trobant la complexitat total de:<br>\n",
    "<b>O(2^n)</b>\n",
    "\n",
    "T(n) = 2(T(n-1)+T(n-2)+...) = 4(T(n-2)+T(n-3)+....) = 8(T(n-3)+....) = .... = 2^n(T(1))"
   ]
  },
  {
   "cell_type": "markdown",
   "metadata": {},
   "source": [
    "# Problema 3.2: LIS amb Programació dinàmica\n",
    "<b>Quina complexitat té aquest algorisme?</b></p>"
   ]
  },
  {
   "cell_type": "code",
   "execution_count": 23,
   "metadata": {},
   "outputs": [],
   "source": [
    "def lis_dp_bottom_up(seq):\n",
    "    total = len(seq)\n",
    "    \n",
    "    longituds = [1]*total\n",
    "    \n",
    "    for i in range(total-2, -1, -1):\n",
    "        \n",
    "        for j in range(i+1,total):\n",
    "            \n",
    "            if seq[i] < seq[j] and longituds[j] >= longituds[i]:\n",
    "                longituds[i] = longituds[j]+1\n",
    "    \n",
    "    return max(longituds)"
   ]
  },
  {
   "cell_type": "code",
   "execution_count": 24,
   "metadata": {
    "scrolled": false
   },
   "outputs": [
    {
     "name": "stdout",
     "output_type": "stream",
     "text": [
      "6\n",
      "2\n"
     ]
    }
   ],
   "source": [
    "print(lis_dp_bottom_up([1,2,0,9,3,5,4,6,8])) # Retorna 6\n",
    "print(lis_dp_bottom_up([4,1,2,1]))           # Retorna 2"
   ]
  },
  {
   "cell_type": "markdown",
   "metadata": {},
   "source": [
    "##### COMPLEXITAT LIS Programació Dinamica:\n",
    "En el anterior codi s'anomena total a la n (tamany de la longitud de la seqüencia)<br>\n",
    "Veiem clarament com es recorre un bucle de tamany n que te anidat un altre de tamany fins variable l'anteriror, es a dir, en total es la suma gaussiana (1+2+3+4+....), es a dir n*(n-1)/2, que acaba sent:<br>\n",
    "n² iteracions i dins es calcula l'operacio d'assignacio i extraccio del valor de l'estructura optima (llista)\n",
    "\n",
    "Per tant podem concloure que en programacio dinàmica, LIS, té complexitat:<br>\n",
    "<b>O(n²)</b>  (al final es recorre la llista per trobar el maxim (O(n)) es negligible al costat del bucle)"
   ]
  },
  {
   "cell_type": "markdown",
   "metadata": {},
   "source": [
    "# Problema 3: Levensthein\n",
    "Donades dues paraules $A$ i $B$ volem trobar el cost d'edició entre elles. Les operacions que es permeten són:</p>\n",
    "- <b>Inserir</b> una lletra en qualsevol posició de la paraula. Per exemple, podem transformar la paraula TACA en la paraula TRACA amb només una operació d'inserció.\n",
    "- <b>Eliminar</b> una lletra en qualsevol posició de la paraula. Per exemple, podem transformar la paraula TRACA en la paraula TACA amb només una operació d'eliminació.\n",
    "- <b>Substituir</b> una lletra per una altra. Per exemple, podem transformar la paraula TACA en la paraula TOCA amb només una operació de substitució.\n",
    "\n",
    "Implementeu un algorisme de programació dinàmica que ens permeti trobar el cost mínim d'edició entre les dues paraules i que també retorni les operacions que s'han de fer per transformar una paraula en l'altre. <br>\n",
    "Per exemple, l'execució de<br> <b>levensthein('WINE', 'WAITER')</b> ha d'imprimir:\n",
    "\n",
    "<code>\n",
    "COST: 3\n",
    "[0, 1, 2, 3, 4]\n",
    "[1, 0, 1, 2, 3]\n",
    "[2, 1, 1, 2, 3]\n",
    "[3, 2, 1, 2, 3]\n",
    "[4, 3, 2, 2, 3]\n",
    "[5, 4, 3, 3, 2]\n",
    "[6, 5, 4, 4, 3]\n",
    "MAN: W W  # Ja que estem 'mantenint la lletra W entre les paraules'\n",
    "SUB: A I  # Ja que estem 'substituint' la lletra A per la I\n",
    "INS: I    # Ja que estem 'inserint' la lletra I\n",
    "SUB: T N \n",
    "SUB: E E \n",
    "INS: R   \n",
    "          # En el cas d'eliminar, podeu imprimir DEL\n",
    "</code>"
   ]
  },
  {
   "cell_type": "code",
   "execution_count": 26,
   "metadata": {},
   "outputs": [],
   "source": [
    "import numpy as np\n",
    "def levensthein(word_A, word_B, del_cost = 1, ins_cost = 1, sub_cost = 1):    \n",
    "    \"\"\"\n",
    "    Algorisme de levensthein.\n",
    "    \n",
    "    Params\n",
    "    ======\n",
    "    :word_A, word_B: Les dues paraules a comparar\n",
    "    :del_cost, ins_cost, sub_cost: Els costos d'eliminar, inserir i substituir, respectivament.\n",
    "    \n",
    "    Returns\n",
    "    =======\n",
    "    :cost: El cost d'edició entre les paraules\n",
    "    \"\"\"\n",
    "    print(f'TRANSFORMAR {word_A} en {word_B}')\n",
    "    \n",
    "    word_A = '0' + word_A\n",
    "    word_B = '0' + word_B\n",
    "    \n",
    "    matriu = [[0]*len(word_B) for i in range(len(word_A))]\n",
    "                                                 \n",
    "    #inicialització\n",
    "    for i in range(len(word_A)):\n",
    "        matriu[i][0] = i\n",
    "    for j in range(len(word_B)):\n",
    "        matriu[0][j] = j\n",
    "    \n",
    "    #formem la matriu\n",
    "    for i in range(1,len(word_A)):\n",
    "        for j in range(1, len(word_B)):\n",
    "            if word_A[i] == word_B[j]:\n",
    "                matriu[i][j] = min(matriu[i-1][j-1], matriu[i-1][j]+1, matriu[i][j-1]+1)\n",
    "            else:\n",
    "                matriu[i][j] = min( matriu[i-1][j-1]+1, matriu[i-1][j]+1, matriu[i][j-1]+1)\n",
    "                \n",
    "    print(f'COST {matriu[len(word_A)-1][len(word_B)-1]}')\n",
    "    for fila in matriu:\n",
    "        print(fila)\n",
    "    \n",
    "    print('')\n",
    "    (i,j) = (0,0)\n",
    "    while(j<len(word_B)-1 or i<len(word_A)-1):\n",
    "        \n",
    "        if(j == len(word_B)-1): # Cas en que estem a la ultima columna (sols podem eliminar lletra)\n",
    "            i+=1\n",
    "            print(f'DEL:       {word_A[i]}')\n",
    "        elif(i == len(word_A)-1): # Cas en que estem a la ultima fila (sols podem afegir lletra)\n",
    "            j+=1\n",
    "            print(f'INS: {word_B[j]}')\n",
    "        else:\n",
    "            accio = np.argmin( [ matriu[i+1][j+1]-matriu[i][j], matriu[i+1][j]-matriu[i][j], matriu[i][j+1]-matriu[i][j]])\n",
    "\n",
    "            if(accio == 0):\n",
    "                i+=1\n",
    "                j+=1\n",
    "                if(word_A[i] == word_B[j]):\n",
    "                    print(f'MAN: {word_A[i]} <-> {word_B[j]}')\n",
    "                else:\n",
    "                    print(f'SUB: {word_B[j]} <-- {word_A[i]}')\n",
    "            if(accio == 1):\n",
    "                i+=1\n",
    "                print(f'DEL:       {word_A[i]}')\n",
    "            if(accio == 2):\n",
    "                j+=1\n",
    "                print(f'INS: {word_B[j]}')"
   ]
  },
  {
   "cell_type": "code",
   "execution_count": 29,
   "metadata": {},
   "outputs": [
    {
     "name": "stdout",
     "output_type": "stream",
     "text": [
      "TRANSFORMAR WINE en WAITER\n",
      "COST 3\n",
      "[0, 1, 2, 3, 4, 5, 6]\n",
      "[1, 0, 1, 2, 3, 4, 5]\n",
      "[2, 1, 1, 1, 2, 3, 4]\n",
      "[3, 2, 2, 2, 2, 3, 4]\n",
      "[4, 3, 3, 3, 3, 2, 3]\n",
      "\n",
      "MAN: W <-> W\n",
      "SUB: A <-- I\n",
      "INS: I\n",
      "SUB: T <-- N\n",
      "MAN: E <-> E\n",
      "INS: R\n",
      "--------\n",
      "TRANSFORMAR XERTA en ATZENETA\n",
      "COST 5\n",
      "[0, 1, 2, 3, 4, 5, 6, 7, 8]\n",
      "[1, 1, 2, 3, 4, 5, 6, 7, 8]\n",
      "[2, 2, 2, 3, 3, 4, 5, 6, 7]\n",
      "[3, 3, 3, 3, 4, 4, 5, 6, 7]\n",
      "[4, 4, 3, 4, 4, 5, 5, 5, 6]\n",
      "[5, 4, 4, 4, 5, 5, 6, 6, 5]\n",
      "\n",
      "SUB: A <-- X\n",
      "SUB: T <-- E\n",
      "SUB: Z <-- R\n",
      "SUB: E <-- T\n",
      "SUB: N <-- A\n",
      "INS: E\n",
      "INS: T\n",
      "INS: A\n"
     ]
    }
   ],
   "source": [
    "levensthein('WINE', 'WAITER')\n",
    "print('--------')\n",
    "levensthein('XERTA', 'ATZENETA')"
   ]
  },
  {
   "cell_type": "markdown",
   "metadata": {},
   "source": [
    "# Problema 5: Cent Savings\n",
    "Volem agrupar un conjunt de preus ordenats en, com a màxim, $d+1$ grups. Cada grup de preus es suma i s'arrodoneix a la desena més propera (0, 10, 20,...). L'objectiu és trobar el mínim preu possible donada una llista i un enter $d$. Per formar els grups es talla la llista per la posició que es vulgui sense canviar-ne l'ordre.\n",
    "- <b>Exemple1:</b> Donada la llista $[13, 14]$ i $d=1$, el valor òptim és $20$ que consisteix en fer $2$ grups: $10+10$.\n",
    "- <b>Exemple2:</b> Donada la llista $[12,15,19]$ i $d=2$, el valor òptim és 40 fent 2 grups (i no 3 que seria el màxim possible). $Grup(12)=10 + Grup(15,19)=30$"
   ]
  },
  {
   "cell_type": "code",
   "execution_count": 30,
   "metadata": {},
   "outputs": [],
   "source": [
    "def myround(val):\n",
    "    \"\"\"\n",
    "    Funció auxiliar per arrodonir correctament segons l'enunciat.\n",
    "    \"\"\"\n",
    "    if val%5==0:\n",
    "        val = val+1\n",
    "    return round(val, -1)\n",
    "\n",
    "def cent_savings_recurs(lst, d, i):\n",
    "    if i == 0 and d == 0:\n",
    "        return 0\n",
    "    if i == 0 or d == 0:\n",
    "        return float('inf')\n",
    "\n",
    "    min_cost = float('inf')\n",
    "    current_sum = 0\n",
    "\n",
    "    for k in range(i, 0, -1):\n",
    "        current_sum += lst[k - 1]\n",
    "        min_cost = min(min_cost, cent_savings_recurs(lst, d - 1, k - 1) + myround(current_sum))\n",
    "        \n",
    "    return min_cost\n",
    "\n",
    "def cent_savings_rec(lst, d):\n",
    "    \"\"\"\n",
    "    Algorisme recursiu.\n",
    "    \n",
    "    Params\n",
    "    ======\n",
    "    :lst: Una llista de preus \n",
    "    :d: El nombre de talls que podem fer (grups-1)\n",
    "    \n",
    "    Returns\n",
    "    =======\n",
    "    :minimal: El preu més baix assolible\n",
    "    \"\"\"\n",
    "    n = len(lst)\n",
    "\n",
    "    result = cent_savings_recurs(lst, d, n)\n",
    "    return result"
   ]
  },
  {
   "cell_type": "code",
   "execution_count": 31,
   "metadata": {},
   "outputs": [
    {
     "data": {
      "text/plain": [
       "40"
      ]
     },
     "execution_count": 31,
     "metadata": {},
     "output_type": "execute_result"
    }
   ],
   "source": [
    "cent_savings_rec([12,15,19], 2) # Retorna 40"
   ]
  },
  {
   "cell_type": "code",
   "execution_count": 32,
   "metadata": {},
   "outputs": [],
   "source": [
    "def cent_savings_tp(lst, d, i, dp):\n",
    "    if i == 0 and d == 0:\n",
    "        return 0\n",
    "    if i == 0 or d == 0:\n",
    "        return float('inf')\n",
    "\n",
    "    if dp[i][d] != -1:\n",
    "        return dp[i][d]\n",
    "\n",
    "    min_cost = float('inf')\n",
    "    current_sum = 0\n",
    "\n",
    "    for k in range(i, 0, -1):\n",
    "        current_sum += lst[k - 1]\n",
    "        min_cost = min(min_cost, cent_savings_tp(lst, d - 1, k - 1, dp) + myround(current_sum))\n",
    "\n",
    "    dp[i][d] = min_cost\n",
    "    return min_cost\n",
    "\n",
    "def cent_savings_dp_top_down(lst, d, memo={}):  \n",
    "    \"\"\"\n",
    "    Algorisme programació dinàmica top down.\n",
    "    \n",
    "    Params\n",
    "    ======\n",
    "    :lst: Una llista de preus \n",
    "    :d: El nombre de talls que podem fer (grups-1)\n",
    "    :memo: Un diccionari de memòria.\n",
    "    \n",
    "    Returns\n",
    "    =======\n",
    "    :minimal: El preu més baix assolible\n",
    "    \"\"\"\n",
    "    n = len(lst)\n",
    "    \n",
    "    # Inicializamos la matriz de resultados con -1\n",
    "    dp = [[-1] * (d + 1) for i in range(n + 1)]\n",
    "    \n",
    "    result = cent_savings_tp(lst, d, n, dp)\n",
    "    return result"
   ]
  },
  {
   "cell_type": "code",
   "execution_count": 33,
   "metadata": {},
   "outputs": [
    {
     "data": {
      "text/plain": [
       "40"
      ]
     },
     "execution_count": 33,
     "metadata": {},
     "output_type": "execute_result"
    }
   ],
   "source": [
    "cent_savings_dp_top_down([12,15,19], 2) # Retorna 40"
   ]
  },
  {
   "cell_type": "code",
   "execution_count": 34,
   "metadata": {},
   "outputs": [],
   "source": [
    "def cent_savings_dp_bottom_up(lst, d):\n",
    "    n = len(lst)\n",
    "    \n",
    "    # INICIALITZEM MATRIU PER GUARDAR RESULTATS ( dp[i][j] preu minim de i objectes en j grups) \n",
    "    dp = [[100000] * (d + 1) for i in range(n + 1)]\n",
    "    \n",
    "    # Cas Base\n",
    "    dp[0][0] = 0\n",
    "    \n",
    "    # Calcular los resultados intermedios\n",
    "    for i in range(1, n + 1):\n",
    "        for j in range(1, d + 1):\n",
    "            current_sum = 0\n",
    "            for k in range(i, 0, -1):\n",
    "                current_sum += lst[k - 1]\n",
    "                dp[i][j] = min(dp[i][j], dp[k - 1][j - 1] + myround(current_sum))\n",
    "    \n",
    "    # El resultado final estará en dp[n][d]\n",
    "    return dp[n][d]"
   ]
  },
  {
   "cell_type": "code",
   "execution_count": 35,
   "metadata": {},
   "outputs": [
    {
     "data": {
      "text/plain": [
       "40"
      ]
     },
     "execution_count": 35,
     "metadata": {},
     "output_type": "execute_result"
    }
   ],
   "source": [
    "cent_savings_dp_bottom_up([12,15,19], 2) # Retorna 40"
   ]
  }
 ],
 "metadata": {
  "kernelspec": {
   "display_name": "Python 3 (ipykernel)",
   "language": "python",
   "name": "python3"
  },
  "language_info": {
   "codemirror_mode": {
    "name": "ipython",
    "version": 3
   },
   "file_extension": ".py",
   "mimetype": "text/x-python",
   "name": "python",
   "nbconvert_exporter": "python",
   "pygments_lexer": "ipython3",
   "version": "3.10.9"
  }
 },
 "nbformat": 4,
 "nbformat_minor": 4
}

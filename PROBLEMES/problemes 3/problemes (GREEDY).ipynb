{
 "cells": [
  {
   "cell_type": "markdown",
   "metadata": {},
   "source": [
    "<div style=\"padding:30px; color: white; background-color: #0071CD\">\n",
    "<center>\n",
    "<img src=\"img/logoub.jpeg\"></img>\n",
    "<center>\n",
    "<h1>Algorísmica Avançada</h1>\n",
    "<h2>Greedy</h2>\n",
    "</center>\n",
    "</div>"
   ]
  },
  {
   "cell_type": "code",
   "execution_count": 1,
   "metadata": {},
   "outputs": [
    {
     "data": {
      "text/html": [
       "<style>.container { width:100% !important; }</style>"
      ],
      "text/plain": [
       "<IPython.core.display.HTML object>"
      ]
     },
     "metadata": {},
     "output_type": "display_data"
    }
   ],
   "source": [
    "from IPython.display import display, HTML\n",
    "display(HTML(\"<style>.container { width:100% !important; }</style>\"))"
   ]
  },
  {
   "cell_type": "markdown",
   "metadata": {},
   "source": [
    "# Problema 1: Retornar el canvi\n",
    "Escriu un algorisme que, donat un preu $X$ i un pagament $P$, en euros, ens retorni el canvi. És a dir, quants bitllets i quantes monedes de cada valor cal retornar.<br><br>\n",
    "Exemple:<br>\n",
    "A l'executar <b>change(30.75, 40)</b> ha de retornar la llista [(5,1),(2,2),(0.20,1),(0.05,1)] ja que hem de retornar 1 bitllet de 5 euros, 2 monedes de 2 euros, 1 moneda de 20 cèntims i 1 moneda de 5 cèntims."
   ]
  },
  {
   "cell_type": "code",
   "execution_count": 2,
   "metadata": {},
   "outputs": [],
   "source": [
    "from collections import defaultdict\n",
    "\n",
    "def change(X, P, coins = [.01, .02, .05, .1, .2, .5, 1, 2, 5, 10, 20, 50, 100, 200, 500]):\n",
    "    \"\"\"\n",
    "    Soluciona el problema de retornar el canvi.\n",
    "    \n",
    "    Params\n",
    "    ======\n",
    "    :X: Preu \n",
    "    :P: Pagament. Ha de ser superior o igual a X.\n",
    "    :coins: Llista de monedes o bitllets de la moneda que estiguem considerant. Per defecte, euros.\n",
    "    \n",
    "    Returns\n",
    "    =======\n",
    "    :lst: Llista de monedes o bitllets i la quantitat de cada un d'ells amb el format següent. lst = [(value, quantity)] on:\n",
    "        :value: és un valor existent dins la llista 'coins'\n",
    "        :quantity: és el nombre de monedes/bitllets amb valor 'value'.\n",
    "    \n",
    "    \"\"\"\n",
    "    # Calculem el canvi\n",
    "    v = P-X\n",
    "    \n",
    "    # Aquí guardarem la solució del problema com a diccionari. La clau serà la moneda/bitllet i el valor serà la quantitat.\n",
    "    solution = defaultdict(int)\n",
    "    \n",
    "    # Agafem la 'moneda' més gran, en aquest cas el bitllet de 500.\n",
    "    n = len(coins) - 1 \n",
    "    \n",
    "    # Comprovem si hem acabat, és a dir, si el valor que ens queda és inferior a la moneda més petita, l'algorisme acaba.\n",
    "    while v >= coins[0]:\n",
    "        \n",
    "        # Comprovem si podem pagar amb aquesta moneda. Si no podem, agafem la moneda següent.\n",
    "        while coins[n] > v:\n",
    "            n -= 1\n",
    "                        \n",
    "        # Afegim a la solució\n",
    "        solution[coins[n]] += 1\n",
    "        \n",
    "        # Modifiquem el valor que ens falta per retornar. Afegim el round a dos decimals per a que no doni problemes amb algunes operacions.\n",
    "        v = round(v - coins[n], 2)\n",
    "        \n",
    "    # Imprimim amb el format que es demana\n",
    "    lst = list(solution.items())\n",
    "    return lst"
   ]
  },
  {
   "cell_type": "code",
   "execution_count": 3,
   "metadata": {},
   "outputs": [
    {
     "data": {
      "text/plain": [
       "[(5, 1), (2, 2), (0.2, 1), (0.05, 1)]"
      ]
     },
     "execution_count": 3,
     "metadata": {},
     "output_type": "execute_result"
    }
   ],
   "source": [
    "change(30.75, 40) # Retorna: [(5, 1), (2, 2), (0.2, 1), (0.05, 1)]"
   ]
  },
  {
   "cell_type": "code",
   "execution_count": 4,
   "metadata": {},
   "outputs": [
    {
     "data": {
      "text/plain": [
       "[(4, 1), (1, 2)]"
      ]
     },
     "execution_count": 4,
     "metadata": {},
     "output_type": "execute_result"
    }
   ],
   "source": [
    "# És òptim aquest algorisme?\n",
    "change(4, 10, coins=[1,3,4])"
   ]
  },
  {
   "cell_type": "markdown",
   "metadata": {
    "tags": []
   },
   "source": [
    "# Problema 2: Selecció d'activitats\n",
    "Donat un conjunt d'activitats amb la seva hora d'inici i la seva hora de finalització, trobar quin és el nombre màxim d'activitats que es pot realitzar suposant que només podem fer una activitat alhora."
   ]
  },
  {
   "cell_type": "code",
   "execution_count": 5,
   "metadata": {},
   "outputs": [],
   "source": [
    "def task_selection(activities):\n",
    "    \"\"\"\n",
    "    Retorna les activitats que és possible realitzar\n",
    "    \n",
    "    Params\n",
    "    ======\n",
    "    :activities: Llista d'activitats disponibles. Cada parella (x,y) representa l'hora d'inici i de finalització de l'activitat\n",
    "    \n",
    "    Returns\n",
    "    =======\n",
    "    :act: Activitats que es poden realitzar\n",
    "    \"\"\"\n",
    "    # Ordenar en funció de la hora de finalització \n",
    "    activities = sorted(activities, key=lambda x: x[1])\n",
    "    \n",
    "    start, end = -1, -1\n",
    "    act = []\n",
    "    \n",
    "    # Iterem per totes les activitats, extraient-ne l'hora d'inici i fi\n",
    "    for acty in activities:\n",
    "        (new_start, new_end) = acty\n",
    "        \n",
    "        # Si aquesta activitat no entra en conflicte amb l'anterior, la podem fer\n",
    "        # En el primer cas, segur que podem fer l'activitat ja que end = -1\n",
    "        if new_start >= end:\n",
    "            # modifiquem els valors \n",
    "            act.append(acty)\n",
    "            (start, end) = (new_start, new_end)\n",
    "    \n",
    "    return act"
   ]
  },
  {
   "cell_type": "code",
   "execution_count": 6,
   "metadata": {},
   "outputs": [
    {
     "data": {
      "text/plain": [
       "[(1, 4), (5, 7), (8, 11), (12, 14)]"
      ]
     },
     "execution_count": 6,
     "metadata": {},
     "output_type": "execute_result"
    }
   ],
   "source": [
    "activities = [(1, 4), (3, 8), (8, 11), (12, 14), (8, 12), (3, 5), (5, 9), (2, 13), (6, 10), (5, 7), (0, 6)]\n",
    "task_selection(activities) # Retorna: [(1, 4), (5, 7), (8, 11), (12, 14)]"
   ]
  },
  {
   "cell_type": "markdown",
   "metadata": {},
   "source": [
    "# Problema 3: Problema de la motxilla"
   ]
  },
  {
   "cell_type": "code",
   "execution_count": 26,
   "metadata": {},
   "outputs": [
    {
     "data": {
      "image/png": "[encoded data removed]",
      "text/plain": [
       "<Figure size 200x200 with 1 Axes>"
      ]
     },
     "metadata": {},
     "output_type": "display_data"
    }
   ],
   "source": [
    "from matplotlib import pyplot as plt\n",
    "im = plt.imread('img/Knapsack.png')\n",
    "fig, ax = plt.subplots(figsize=(2, 2))\n",
    "ax.imshow(im)\n",
    "plt.show()"
   ]
  },
  {
   "cell_type": "markdown",
   "metadata": {},
   "source": [
    "Disposem d'una motxilla que té una capacitat màxima de $K$ quilos. Tenim una llista de $n$ elements $E$, on cada element està representat per dos valors: el seu pes, $w$, i el seu valor $v$. És a dir:\n",
    "        $$E = \\{(w_e, v_e),\\ \\ \\ \\forall e=1,\\dots,n\\}$$\n",
    "Volem maximitzar el valor de la motxilla, omplint-la amb els elements de $E$. Concretament, volem trobar:\n",
    "        $$\\max_A\\{A\\subset E\\ |\\ \\sum_{a\\in A}w_a\\leq K \\}$$\n",
    "Implementa un algorisme greedy que trobi una solució al problema. <b>Aquesta solució és òptima?</b>"
   ]
  },
  {
   "cell_type": "code",
   "execution_count": 27,
   "metadata": {},
   "outputs": [],
   "source": [
    "def knapsack(K, E):\n",
    "    \"\"\"\n",
    "    Implementació del problema de la motxilla.\n",
    "    \n",
    "    Params\n",
    "    ======\n",
    "    :K: Pes màxim que la motxilla pot carregar\n",
    "    :E: Elements disponibles representats com una llista de tuples E=[(w,v)] on:\n",
    "        :w: Pes de l'objecte.\n",
    "        :v: Valor de l'objecte.\n",
    "        \n",
    "    Returns\n",
    "    =======    \n",
    "    :selected_elems: La llista dels elements escollits.\n",
    "    :total_weight: El pes total dels objectes que hem afegit.\n",
    "    :total_value: El valor total dels objectes que hem afegit.\n",
    "    \"\"\"\n",
    "    # Ordenar en funció de valor/preu \n",
    "    ordre = sorted(E, key=lambda x: -(x[1]/x[0]))\n",
    "    # Aquí guardarem la solució del problema com a diccionari. La clau serà la moneda/bitllet i el valor serà la quantitat.\n",
    "    solution = defaultdict(int)\n",
    "    pes = 0\n",
    "    value = 0\n",
    "    i = 0 \n",
    "    while pes < K:\n",
    "        if ordre[i][0] <= K - pes:\n",
    "            solution[ordre[i][0]] += 1\n",
    "            pes += ordre[i][0]\n",
    "            value += ordre[i][1]\n",
    "        else:\n",
    "            if i < len(ordre)-1:\n",
    "                i += 1\n",
    "            else:\n",
    "                break\n",
    "    \n",
    "    return list(solution.items()), pes, value"
   ]
  },
  {
   "cell_type": "code",
   "execution_count": 28,
   "metadata": {},
   "outputs": [
    {
     "name": "stdout",
     "output_type": "stream",
     "text": [
      "([(4, 3), (1, 3)], 15, 36)\n",
      "([(10, 2)], 20, 36)\n",
      "([(2, 2)], 4, 6)\n"
     ]
    }
   ],
   "source": [
    "print(knapsack(15, [(12,4), (1,2), (4,10), (1,1), (2,2)]))\n",
    "print(knapsack(25, [(24,24), (10,18), (10,18), (7,10)]))\n",
    "print(knapsack(5,  [(3,2),(2,3),(5,6)]))"
   ]
  },
  {
   "cell_type": "markdown",
   "metadata": {},
   "source": [
    "Ampliació:</b> Modifiqueu la solució per a solucionar dos variacions diferents del problema de la motxilla:\n",
    "\n",
    "- Variant 1:</b> Considereu que tenim 'infinits' objectes iguals per a qualsevol objecte de la llista E, és a dir, que podeu anar posant un mateix objecte múltiples vegades. <b>L'algorisme és òptim en aquest cas?</b>\n",
    "- Variant 2:</b> Considereu que podem posar la fracció que vulguem de cada objecte, és a dir, que podem partir un objecte en trossos (disminuint, és clar, el seu pes i el seu valor). <b>L'algorisme és òptim en aquest cas?</b>"
   ]
  },
  {
   "cell_type": "markdown",
   "metadata": {},
   "source": [
    "-------------RESPOSTA-------------"
   ]
  },
  {
   "cell_type": "markdown",
   "metadata": {
    "tags": []
   },
   "source": [
    "# Problema 4: Repostatge de vehicles\n",
    "Hem de fer un trajecte des d’un punt d’origen $S$ i un destí $D$. El dipòsit del cotxe permet recórrer un màxim de $K$ quilòmetres. Es demana trobar el nombre mínim de parades per a fer provisió de carburant durant el trajecte.<br><br>\n",
    "       \n",
    "Implementeu un algorisme que, donat $K$ i una llista de distàncies entre l'orígen i les benzineres, on l'últim element de la llista és el destí, retorni el nombre de cops que haurem de parar a repostar.<br><br>\n",
    "Per exemple, si tenim un cotxe que pot fer 10km sense repostar, el destí està a 30km i tenim benzineres als punts: 8, 14, 16, 18, 23, 27 podem executar:<br><br><center><b>refill(10, [8, 14, 16, 18, 23, 27, 30])</center> \n",
    "i ens haurà de retornar tres valors: (True, 3, [8, 18, 27]).\n",
    "\n",
    "- True/False depenent de si existeix, o no, una solució al problema.\n",
    "- Nombre de benzineres on hem de fer parada. En cas que no existeixi solució, retornarà el nombre de benzineres que hem visitat abans d'exhaurir el carburant.\n",
    "- Llista dels quilòmetres que formen part de la solució."
   ]
  },
  {
   "cell_type": "code",
   "execution_count": 29,
   "metadata": {},
   "outputs": [],
   "source": [
    "def refill(K, stations):   \n",
    "    \"\"\"\n",
    "    Soluciona el problema de repostatge de vehicles.\n",
    "    \n",
    "    Params\n",
    "    ======\n",
    "    :K: quilòmetres que pot fer el cotxe amb el dipòsit ple.\n",
    "    :stations: Punt quilomètric on es troba cada benzinera. L'últim element d'aquesta llista és el destí del trajecte.\n",
    "    \n",
    "    Returns\n",
    "    =======\n",
    "    :exists_solution: Si existeix o no solució al problema (True/False)\n",
    "    :num_stops: Nombre de parades que hem de fer.\n",
    "    :stops: Parades on ens aturarem (punt quilomètric).    \n",
    "    \"\"\"\n",
    "    exists = True    \n",
    "    stops = []\n",
    "    distancia = K # variable que indica la distancia a la que podem arribar\n",
    "    \n",
    "    while exists:#arranquem i distancia es el km on estem més K\n",
    "        \n",
    "        # si la distancia es major que el desti, hem trobat la solució\n",
    "        if distancia >= stations[-1]:\n",
    "            break\n",
    "        \n",
    "        # trobem a quants punts de parada podem arribar\n",
    "        x = 0\n",
    "        for i, element in enumerate(stations[:-1]):\n",
    "            if element <= distancia:\n",
    "                x += 1\n",
    "            else:\n",
    "                break\n",
    "        \n",
    "        # si no troba cap (el primer punt de la llista es major que distancia) NO HI HA SOLUCIÓ\n",
    "        if x == 0:\n",
    "            exists = False\n",
    "            break\n",
    "            \n",
    "        # X marca la benzinera mes llunyana, aquesta es en la que hem de parar\n",
    "        km = stations[x-1]\n",
    "        stops.append(km)\n",
    "        distancia = km + K\n",
    "        \n",
    "        # eliminem los valors ja passats (greedy) -> reencarem lo problema desde lo punt actual\n",
    "        del stations[0:x]\n",
    "\n",
    "\n",
    "    if exists:\n",
    "        num_stops = len(stops)\n",
    "        return exists, num_stops, stops\n",
    "    else:\n",
    "        num_stops = len(stops)\n",
    "        return exists, num_stops, stops"
   ]
  },
  {
   "cell_type": "code",
   "execution_count": 30,
   "metadata": {},
   "outputs": [
    {
     "name": "stdout",
     "output_type": "stream",
     "text": [
      "(True, 3, [8, 18, 27])\n",
      "(True, 2, [14, 27])\n",
      "(False, 3, [18, 36, 55])\n"
     ]
    }
   ],
   "source": [
    "print(refill(10, [8, 14, 16, 18, 23, 27, 30]))    # Retorna (True, 3, [8, 18, 27])\n",
    "print(refill(15, [8, 14, 16, 18, 23, 27, 30]))    # Retorna (True, 2, [14, 27])\n",
    "print(refill(20, [16, 18, 36, 55, 78, 80, 120]))  # Retorna (False, 3, [18, 36, 55])"
   ]
  },
  {
   "cell_type": "markdown",
   "metadata": {},
   "source": [
    "# Problema 5: Nombre màxim de $N$ dígits tals que sumin $S$</h1>\n",
    "\n",
    "Escriu una funció que retorni el nombre més gran possible de $N$ dígits tals que, sumats, tinguin com a valor $S$. En el cas que aquest nombre no existeixi, ha de retornar -1.\n",
    "Exemple:<br>\n",
    "A l'executar <b>largest_num(2, 9)</b> ha de retornar 90 ja que és el valor de 2 dígits més gran tals que sumen 9.<br>\n",
    "A l'executar <b>largest_num(2, 20)</b> ha de retornar -1 ja que no existeix."
   ]
  },
  {
   "cell_type": "code",
   "execution_count": 31,
   "metadata": {},
   "outputs": [],
   "source": [
    "def calcul(llista):\n",
    "    num = 0\n",
    "    for digito in llista:\n",
    "        num = num + digito\n",
    "    return num\n",
    "\n",
    "def resultat(llista):\n",
    "    num = 0\n",
    "    for digito in llista:\n",
    "        num = num*10 + digito\n",
    "    return num\n",
    "\n",
    "def largest_num(N, S):\n",
    "    \"\"\"\n",
    "    Troba el nombre més gran de N dígits amb suma S\n",
    "    \n",
    "    Params\n",
    "    ======\n",
    "    :N: El nombre de dígits permesos\n",
    "    :S: La suma dels N dígits\n",
    "    \n",
    "    Returns\n",
    "    =======\n",
    "    :num: El nombre que satisfà la condició\n",
    "    \"\"\"\n",
    "    valor = []\n",
    "    \n",
    "    for i in range(N):\n",
    "        valor.append(0)\n",
    "    \n",
    "    for j in range(N):\n",
    "        for i in range(9):\n",
    "            valor[j] += 1\n",
    "            num = calcul(valor)\n",
    "            if num == S:\n",
    "                break\n",
    "        if num == S:\n",
    "            break\n",
    "\n",
    "    if num == S:\n",
    "        return resultat(valor)\n",
    "    else:\n",
    "        return -1"
   ]
  },
  {
   "cell_type": "code",
   "execution_count": 32,
   "metadata": {},
   "outputs": [
    {
     "name": "stdout",
     "output_type": "stream",
     "text": [
      "90\n",
      "992\n",
      "-1\n"
     ]
    }
   ],
   "source": [
    "print(str(largest_num(2,9)))   # Retorna 90\n",
    "print(str(largest_num(3,20)))  # Retorna 992\n",
    "print(str(largest_num(5,560))) # Retorna -1"
   ]
  },
  {
   "cell_type": "markdown",
   "metadata": {},
   "source": [
    "# Problema 6: Cercles inscrits en rectangles\n",
    "\n",
    "Considera dues seqüències de nombres: $A_1, A_2,\\dots,A_N$ i $B_1, B_2,\\dots,B_N$. Fent parelles d'aquests elements $(A_i, B_j)$, podem crear rectangles de base $A_i$ i alçada $B_j$ on $0\\leq i,j\\leq N$.\n",
    "\n",
    "Escriu una funció que retorni quin és el valor màxim de $S$, definit com la suma de tots els diàmetres dels cercles que es poden inscriure dins dels rectangles.\n",
    "\n",
    "Apunt:</b> Un cercle està incrit en un rectangle si està totalment contingut a dins i el seu diàmetre és igual a un dels dos costats del rectangle. \n",
    "Per exemple:"
   ]
  },
  {
   "cell_type": "code",
   "execution_count": 33,
   "metadata": {},
   "outputs": [
    {
     "data": {
      "image/png": "[encoded data removed]",
      "text/plain": [
       "<Figure size 200x200 with 1 Axes>"
      ]
     },
     "metadata": {},
     "output_type": "display_data"
    }
   ],
   "source": [
    "from matplotlib import pyplot as plt\n",
    "im = plt.imread('img/inscribed.png')\n",
    "fig, ax = plt.subplots(figsize=(2, 2))\n",
    "ax.imshow(im)\n",
    "plt.show()"
   ]
  },
  {
   "cell_type": "code",
   "execution_count": 39,
   "metadata": {},
   "outputs": [],
   "source": [
    "def inscribed_circles(A, B):\n",
    "    \"\"\"\n",
    "    Fa parelles de bases i alçades tal que maximitzin el valor S, definit com la suma de tots els diàmetres dels cercles que es poden inscriure\n",
    "    dels rectangles.\n",
    "    \n",
    "    Params\n",
    "    ======\n",
    "    :A: La llista de les bases dels rectangles\n",
    "    :B: La llista de les alçades dels rectangles\n",
    "    \n",
    "    Returns\n",
    "    =======\n",
    "    :S: La suma màxima de tots els diàmetres dels cercles inscrits en els rectangles que es poden construïr agafant un element de A com a base\n",
    "        i un element de B com a alçada.\n",
    "    \"\"\"\n",
    "def inscribed_circles(A, B):\n",
    "    S = 0  # Inicializamos la suma de diámetros en cero\n",
    "\n",
    "    for base in A:\n",
    "        for height in B:\n",
    "            diameter = min(base, height)  # Diámetro del círculo inscrito en el rectángulo\n",
    "            S += diameter  # Agregamos el diámetro a la suma total\n",
    "\n",
    "    return S"
   ]
  },
  {
   "cell_type": "code",
   "execution_count": 40,
   "metadata": {},
   "outputs": [
    {
     "data": {
      "text/plain": [
       "108"
      ]
     },
     "execution_count": 40,
     "metadata": {},
     "output_type": "execute_result"
    }
   ],
   "source": [
    "inscribed_circles([8,8,10,12], [15,20,3,5]) # Retorna 30"
   ]
  }
 ],
 "metadata": {
  "kernelspec": {
   "display_name": "Python 3 (ipykernel)",
   "language": "python",
   "name": "python3"
  },
  "language_info": {
   "codemirror_mode": {
    "name": "ipython",
    "version": 3
   },
   "file_extension": ".py",
   "mimetype": "text/x-python",
   "name": "python",
   "nbconvert_exporter": "python",
   "pygments_lexer": "ipython3",
   "version": "3.10.9"
  }
 },
 "nbformat": 4,
 "nbformat_minor": 4
}

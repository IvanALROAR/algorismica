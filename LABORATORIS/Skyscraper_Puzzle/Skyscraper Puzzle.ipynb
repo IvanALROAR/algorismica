{
 "cells": [
  {
   "cell_type": "markdown",
   "metadata": {},
   "source": [
    "<div style=\"padding:30px; color: white; background-color: #0071CD\">\n",
    "<center>\n",
    "<img src=\"img/logoub.jpeg\"></img>\n",
    "<center>\n",
    "<h1>Algorísmica Avançada</h1>\n",
    "<h2>Skyscraper Puzzle</h2>\n",
    "</center>\n",
    "</div>"
   ]
  },
  {
   "cell_type": "code",
   "execution_count": 1,
   "metadata": {},
   "outputs": [
    {
     "data": {
      "text/html": [
       "<style>.container { width:100% !important; }</style>"
      ],
      "text/plain": [
       "<IPython.core.display.HTML object>"
      ]
     },
     "metadata": {},
     "output_type": "display_data"
    }
   ],
   "source": [
    "from IPython.display import display, HTML\n",
    "display(HTML(\"<style>.container { width:100% !important; }</style>\"))"
   ]
  },
  {
   "cell_type": "markdown",
   "metadata": {},
   "source": [
    "# Problema: Edificis\n",
    "\n",
    "Volem solucionar el puzzle dels edificis. Donada una graella com la que tenim a continuació (esquerra), volem trobar la solució al puzzle (dreta):"
   ]
  },
  {
   "cell_type": "code",
   "execution_count": 2,
   "metadata": {},
   "outputs": [
    {
     "data": {
      "image/png": "[encoded data removed]",
      "text/plain": [
       "<Figure size 400x200 with 1 Axes>"
      ]
     },
     "metadata": {},
     "output_type": "display_data"
    }
   ],
   "source": [
    "from matplotlib import pyplot as plt\n",
    "im = plt.imread(\"img/sky-intro.png\")\n",
    "fig, ax = plt.subplots(figsize=(4, 2))\n",
    "ax.imshow(im)\n",
    "plt.show()"
   ]
  },
  {
   "cell_type": "markdown",
   "metadata": {},
   "source": [
    "Podem pensar que cada una de les caselles és un solar on hi podem posar un edifici de X plantes. En aquest cas un edifici de 1,2,3 o 4 plantes ja que el tauler és de 4x4.<br>\n",
    "Els números que trobem a fora de la graella ens indiquen quants edificis són visibles des d'aquesta posició. Un edifici d'alçada 4 tapa qualsevol edifici que hi ha al darrere com podeu veure en la imatge següent:"
   ]
  },
  {
   "cell_type": "markdown",
   "metadata": {},
   "source": [
    "<img src=\"img/sky-rule-3-1.png\" width='20%'></center>"
   ]
  },
  {
   "cell_type": "markdown",
   "metadata": {},
   "source": [
    "A més, en cada fila i columna de la graella només pot haver-hi un sol edifici de cada alçada, és a dir, no es poden repetir."
   ]
  },
  {
   "cell_type": "markdown",
   "metadata": {},
   "source": [
    "<img src=\"img/skyscrapers.png\" width='20%'></center>"
   ]
  },
  {
   "cell_type": "markdown",
   "metadata": {},
   "source": [
    "        L'objectiu és doncs, donada una graella com la inicial, trobar la configuració d'edificis que satisfà les condicions. Implementeu un algorisme usant backtracking que <b>trobi una solució utilitzant el mínim nombre de crides recursives i minimitzant el temps total d'execució</b>. Per fer-ho haureu de tenir en comptes diferents factors com ara:\n",
    "-  Quin número començareu provant?\n",
    "-  Quina casella serà la primera que omplireu?"
   ]
  },
  {
   "cell_type": "markdown",
   "metadata": {},
   "source": [
    "La funció **format_sky** us ajudarà a visualitzar el tauler del problema."
   ]
  },
  {
   "cell_type": "code",
   "execution_count": 3,
   "metadata": {
    "tags": []
   },
   "outputs": [],
   "source": [
    "import numpy as np\n",
    "from IPython.display import clear_output\n",
    "import time\n",
    "\n",
    "def format_sky(board, top, bottom, left, right):\n",
    "    \"\"\"\n",
    "    Funció auxiliar per mostrar la matriu del Problema 1 en forma de graella.\n",
    "    \"\"\"\n",
    "    _str = \"\"\n",
    "    \n",
    "    # Files\n",
    "    for v in top:\n",
    "        _str+=\"   \"+str(v)\n",
    "    _str = \"  \" + _str + \"\\n\"\n",
    "\n",
    "    for idx, i in enumerate(board):\n",
    "        _str+= \"   +\"+ (\"-\"*((board.shape[1]*4)-1)) +\"+\\n\"\n",
    "        _str+= f\" {left[idx]} | \"\n",
    "        \n",
    "        # Columnes\n",
    "        for j in i:   \n",
    "            if j!=0:\n",
    "                _str+= str(j)+\" | \"\n",
    "            else:\n",
    "                 _str+= \"  | \"\n",
    "            \n",
    "        _str+= f\"{right[idx]} \\n\"\n",
    "    _str+= \"   +\"+ (\"-\"*((board.shape[1]*4)-1))+\"+\\n\"\n",
    "    \n",
    "    _bot = \"\"\n",
    "    for v in bottom:\n",
    "        _bot+=\"   \"+str(v)\n",
    "    _str += \"  \" + _bot\n",
    "    \n",
    "    return _str.replace('0',' ')"
   ]
  },
  {
   "cell_type": "markdown",
   "metadata": {},
   "source": [
    "Veieu un exemple de com utilitzar aquesta funció:\n"
   ]
  },
  {
   "cell_type": "code",
   "execution_count": 4,
   "metadata": {},
   "outputs": [
    {
     "name": "stdout",
     "output_type": "stream",
     "text": [
      "Tauler:\n",
      "              \n",
      "   +-----------+\n",
      "   |   |   |   |   \n",
      "   +-----------+\n",
      "   |   |   |   |   \n",
      "   +-----------+\n",
      "   |   |   |   | 1 \n",
      "   +-----------+\n",
      "     3        \n"
     ]
    }
   ],
   "source": [
    "# Amb aquesta funció es mostren totes les caselles del tauler\n",
    "# Les caselles que contenen un zero es mostren buides\n",
    "\n",
    "# Creem unes restriccions i un tauler \n",
    "top, bottom, left, right = [0,0,0], [3,0,0], [0,0,0], [0,0,1]\n",
    "grid = np.zeros((len(left), len(top)), dtype='int')\n",
    "\n",
    "print('Tauler:')\n",
    "print(format_sky(grid, top, bottom, left, right))"
   ]
  },
  {
   "cell_type": "markdown",
   "metadata": {},
   "source": [
    "La funció **delayed_print** us permet bloquejar temporalment un 'print' per si voleu veure les accions que fa a cada pas el vostre algorisme.<br>\n",
    "No heu d'utilitzar-la a l'entrega ja que el programa tardarà molt més del necessari, utilitzeu-la només mentre programeu la solució."
   ]
  },
  {
   "cell_type": "code",
   "execution_count": 5,
   "metadata": {},
   "outputs": [],
   "source": [
    "def delayed_print(grid, top, bottom, left, right, sleep_time=0.02):\n",
    "    \"\"\"\n",
    "    Funció auxiliar que bloqueja temporalment la funció 'print' per veure l'evolució de l'algorisme.\n",
    "    \"\"\"\n",
    "    print(format_sky(grid, top, bottom, left, right))\n",
    "    clear_output(wait=True)\n",
    "    time.sleep(sleep_time)"
   ]
  },
  {
   "cell_type": "code",
   "execution_count": 6,
   "metadata": {},
   "outputs": [
    {
     "name": "stdout",
     "output_type": "stream",
     "text": [
      "              \n",
      "   +-----------+\n",
      "   | 2 | 3 | 3 |   \n",
      "   +-----------+\n",
      "   | 2 | 3 | 1 |   \n",
      "   +-----------+\n",
      "   | 1 | 2 | 3 | 1 \n",
      "   +-----------+\n",
      "     3        \n"
     ]
    }
   ],
   "source": [
    "top, bottom, left, right = [0,0,0], [3,0,0], [0,0,0], [0,0,1]\n",
    "grid = np.zeros((len(left), len(top)), dtype='int')\n",
    "\n",
    "for i in range(0, len(left)):\n",
    "    for j in range(0, len(top)):\n",
    "        grid[i][j] = np.random.randint(1,4)\n",
    "        delayed_print(grid, top, bottom, left, right, sleep_time=0.25)"
   ]
  },
  {
   "cell_type": "code",
   "execution_count": 7,
   "metadata": {
    "tags": []
   },
   "outputs": [],
   "source": [
    "def count_restrictions(x, y, top, bottom, left, right):\n",
    "    # Conta les restriccions (numeros fora la matriu) en la posició (x,y)\n",
    "    count = 0\n",
    "    if top[y] != 0:\n",
    "        count += 1\n",
    "    if bottom[y] != 0:\n",
    "        count += 1\n",
    "    if left[x] != 0:\n",
    "        count += 1\n",
    "    if right[x] != 0:\n",
    "        count += 1\n",
    "    return count\n",
    "\n",
    "def find_empty_location(grid, top, bottom, left, right):\n",
    "    empty_locations = []\n",
    "    \n",
    "    for i in range(len(grid)):\n",
    "        for j in range(len(grid)):\n",
    "            if grid[i][j] == 0:\n",
    "                num_restricts = count_restrictions(i, j, top, bottom, left, right)\n",
    "                empty_locations.append(((i, j), num_restricts))\n",
    "    \n",
    "    # Ordena la llista pel numero de restriccions, de major a menor\n",
    "    empty_locations.sort(key=lambda x: x[1], reverse=True)\n",
    "    \n",
    "    # Retorna la posició (1er valor de la 1a tupla) que te més restriccions\n",
    "    return empty_locations[0][0] if empty_locations else None\n",
    "\n",
    "def vision_of(fila):\n",
    "    # Conta el nombre de edificis que es veuen en la fila\n",
    "    count = 1\n",
    "    maxim = fila[0]\n",
    "    for i in range(1,len(fila)):\n",
    "        if maxim < fila[i]:\n",
    "            count += 1\n",
    "            maxim = fila[i]\n",
    "    return count\n",
    "\n",
    "\n",
    "def satisfies(grid, x, y, num, top, bottom, left, right):\n",
    "    \"\"\"\n",
    "    Donat un tauler, un punt amb coordenades (x,y) i un nombre 'num', comprova si és possible assignar-lo a la posició (x,y) \n",
    "    donades les restriccions del problema.\n",
    "    \n",
    "    Params\n",
    "    ------\n",
    "    :grid: Una matriu de numpy\n",
    "    :x,y: Un punt de la matriu on volem posar el nombre 'num'\n",
    "    :num: Un nombre enter\n",
    "    :top, bottom, left, right: Els nombres de fora del tauler de la part superior, inferior, esquerra i dreta, respectivament.\n",
    "    \n",
    "    Returns\n",
    "    -------\n",
    "    :b: Un boleà True/False depenent de si el nombre 'num' pot ser col·locat a la casella (x,y) o no.\n",
    "    \"\"\"\n",
    "    \n",
    "    if num > len(top) or num <=0:\n",
    "        return False # Volem inserir un numero que no es valid\n",
    "    if grid[x][y] != 0:\n",
    "        return False # Volem inserir numero en posicio que ja té número\n",
    "\n",
    "# 1r COMPROVEM QUE NO HI HA CAP NUMERO IGUAL A ELL    \n",
    "# Comprovem la COLUMNA\n",
    "    for i in range(x+1,len(left)):\n",
    "        if grid[i][y] == num:\n",
    "            return False\n",
    "    for i in range(x-1, -1, -1):\n",
    "        if grid[i][y] == num:\n",
    "            return False\n",
    "# Comprovem la FILA\n",
    "    for i in range(y+1,len(top)):\n",
    "        if grid[x][i] == num:\n",
    "            return False\n",
    "    for i in range(y-1, -1, -1):\n",
    "        if grid[x][i] == num:\n",
    "            return False\n",
    "#2n COMPROVEM QUE COMPLEIX LA VISIO DE CADA COSTAT\n",
    "    grid[x][y] = num #posem el numero en la posició per comprovar la visio\n",
    "    columna = [fila[y] for fila in grid] # columna a comprobar\n",
    "    fila = [i for i in grid[x]] # fila a comprobar\n",
    "    \n",
    "    # TOP\n",
    "    if top[y] != 0: #hi ha restricció cal comprobarla\n",
    "        restriction = top[y]\n",
    "        if( len(grid) in columna[:restriction-1]): # si el maxim esta abans de on es veu fins restriccio MAL\n",
    "            grid[x][y] = 0\n",
    "            return False\n",
    "        else:\n",
    "            if( 0 not in columna ): # comprovem la visió quan la fila esta plena (AIXÓ PODRIA MILLORAR-SE)\n",
    "                vision = vision_of(columna)\n",
    "                if vision != restriction:\n",
    "                    grid[x][y] = 0\n",
    "                    return False\n",
    "    #BOTTOM\n",
    "    if bottom[y] != 0:\n",
    "        restriction = bottom[y]\n",
    "        if( len(grid) in columna[::-1][:restriction-1] ):\n",
    "            grid[x][y] = 0\n",
    "            return False\n",
    "        else:\n",
    "            if( 0 not in columna[::-1] ):\n",
    "                vision = vision_of(columna[::-1])\n",
    "                if vision != restriction:\n",
    "                    grid[x][y] = 0\n",
    "                    return False\n",
    "    #LEFT\n",
    "    if left[x] != 0:\n",
    "        restriction = left[x]\n",
    "        if( len(grid) in fila[:restriction-1] ):\n",
    "            grid[x][y] = 0\n",
    "            return False\n",
    "        else:\n",
    "            if( 0 not in fila):\n",
    "                vision = vision_of(fila)\n",
    "                if vision != restriction:\n",
    "                    grid[x][y] = 0\n",
    "                    return False\n",
    "    #RIGHT\n",
    "    if right[x] != 0:\n",
    "        restriction = right[x]\n",
    "        if( len(grid) in fila[::-1][:restriction-1] ):\n",
    "            grid[x][y] = 0\n",
    "            return False\n",
    "        else:\n",
    "            if( 0 not in fila[::-1] ):\n",
    "                vision = vision_of(fila[::-1])\n",
    "                if vision != restriction:\n",
    "                    grid[x][y] = 0\n",
    "                    return False\n",
    "                \n",
    "    # si arriba fins aquí es que el numero SÍ pot posar-se\n",
    "    return True\n",
    "\n",
    "def skyscrapper_backtracking(grid, top, bottom, left, right):  \n",
    "    \"\"\"\n",
    "    Funció que implementa l'algorisme de backtracking\n",
    "    \n",
    "    Params\n",
    "    ------\n",
    "    :grid: Una matriu de tipus numpy\n",
    "    :top, bottom, left, right: Els nombres de fora del tauler de la part superior, inferior, esquerra i dreta, respectivament.\n",
    "    \n",
    "    Returns\n",
    "    -------\n",
    "    :grid: La matriu plena amb la solució correcta o bé False en cas que no tingui solució.    \n",
    "    \"\"\"\n",
    "    \n",
    "    # NO esborreu aquestes dues línies, serveien per saber quants cops es crida aquesta funció\n",
    "    # ----------------------------------------------------------------------------------------\n",
    "    global num_recursive_calls \n",
    "    num_recursive_calls += 1\n",
    "    # ----------------------------------------------------------------------------------------\n",
    "    \n",
    "    #ESQUEMA BACKTRACKING\n",
    "    \n",
    "    empty_location = find_empty_location(grid, top, bottom, left, right)\n",
    "    if not empty_location:\n",
    "        return True  # La matriu está completa, s'ha trobat una solució\n",
    "    \n",
    "    (x, y) = empty_location # Calcul del Proxim pas a fer\n",
    "    \n",
    "    # Proba cada número del 1 al maxim de la matriu en la posición que li hem passat disponible\n",
    "    for num in range(1, len(grid) + 1):\n",
    "        if satisfies(grid, x, y, num, top, bottom, left, right): # es possible el moviment?\n",
    "            grid[x][y] = num\n",
    "            # delayed_print(grid, top, bottom, left, right, sleep_time=0.75) # print per veuere execució \n",
    "                #Aquest print demostra que pot millorar-se la funció\n",
    "            \n",
    "            # seguim buscant la solució a partir del moviment fet\n",
    "            sol = skyscrapper_backtracking(grid, top, bottom, left, right)\n",
    "            if sol is not False:\n",
    "                return grid  # Si ha trobat solució, acaba el programa\n",
    "            \n",
    "            # Si arriba aquí es que el num no ha portat a solució i desfem el pas\n",
    "            grid[x][y] = 0\n",
    "    \n",
    "    return False  # Cap dels valors es possible i per tant aquella crida ja no es possible     \n",
    "\n",
    "def skyscrapper(top, bottom, left, right):\n",
    "    \"\"\"\n",
    "    Funció principal del problema. Rep quatre llistes corresponents als nombres que hi ha fora del tauler.\n",
    "    \n",
    "    Params\n",
    "    ------\n",
    "    :top, bottom, left, right: Els nombres de fora del tauler de la part superior, inferior, esquerra i dreta, respectivament.\n",
    "    \"\"\"\n",
    "    # Inicialitzem una matriu de zeros\n",
    "    grid = np.zeros((len(left), len(top)), dtype='int')\n",
    "    print(format_sky(grid, top, bottom, left, right))\n",
    "    \n",
    "    # Casos base de top\n",
    "    for i,valor in enumerate(top):\n",
    "        if valor == 1:\n",
    "            grid[0][i] = len(top)\n",
    "        if valor == len(top):\n",
    "            for x in range(len(top)):\n",
    "                grid[x][i] = x+1\n",
    "    # Casos base de bot\n",
    "    for i,valor in enumerate(bottom):\n",
    "        if valor == 1:\n",
    "            grid[len(top)-1][i] = len(top)\n",
    "        if valor == len(top):\n",
    "            for x in range(len(top)):\n",
    "                grid[x][i] = len(top)-x\n",
    "    # Casos base de left\n",
    "    for i,valor in enumerate(left):\n",
    "        if valor == 1:\n",
    "            grid[i][0] = len(top)\n",
    "        if valor == len(top):\n",
    "            for x in range(len(top)):\n",
    "                grid[i][x] = x+1\n",
    "    # Casos base de right\n",
    "    for i,valor in enumerate(right):\n",
    "        if valor == 1:\n",
    "            grid[i][len(top)-1] = len(top)\n",
    "        if valor == len(top):\n",
    "            for x in range(len(top)):\n",
    "                grid[i][x] = len(top)-x\n",
    "\n",
    "    # print(format_sky(grid, top, bottom, left, right))\n",
    "    \n",
    "    # Cridem a la funció que soluciona el problema mitjançant backtracking\n",
    "    solution = skyscrapper_backtracking(grid, top, bottom, left, right)\n",
    "    \n",
    "    # Mostrem el resultat en el cas que trobem una solució o mostrem un error en cas contrari.\n",
    "    if solution is False:\n",
    "        print('No solution found')\n",
    "    else:\n",
    "        print(format_sky(np.array(solution), top, bottom, left, right))"
   ]
  },
  {
   "cell_type": "code",
   "execution_count": 8,
   "metadata": {},
   "outputs": [
    {
     "name": "stdout",
     "output_type": "stream",
     "text": [
      "              \n",
      "   +-----------+\n",
      "   |   |   |   |   \n",
      "   +-----------+\n",
      "   |   |   |   |   \n",
      "   +-----------+\n",
      "   |   |   |   | 1 \n",
      "   +-----------+\n",
      "     3        \n",
      "              \n",
      "   +-----------+\n",
      "   | 3 | 1 | 2 |   \n",
      "   +-----------+\n",
      "   | 2 | 3 | 1 |   \n",
      "   +-----------+\n",
      "   | 1 | 2 | 3 | 1 \n",
      "   +-----------+\n",
      "     3        \n",
      "Crides recursives: 6\n",
      "Temps: 0.00s\n"
     ]
    }
   ],
   "source": [
    "num_recursive_calls = 0\n",
    "t0 = time.perf_counter()\n",
    "skyscrapper([0,0,0],\n",
    "            [3,0,0],\n",
    "            [0,0,0],\n",
    "            [0,0,1])\n",
    "t1 = time.perf_counter()\n",
    "print('Crides recursives:', num_recursive_calls)\n",
    "print(f'Temps: {t1-t0:.2f}s')"
   ]
  },
  {
   "cell_type": "code",
   "execution_count": 16,
   "metadata": {},
   "outputs": [
    {
     "name": "stdout",
     "output_type": "stream",
     "text": [
      "     4   2   1   2   3\n",
      "   +-------------------+\n",
      " 3 |   |   |   |   |   | 3 \n",
      "   +-------------------+\n",
      " 2 |   |   |   |   |   | 4 \n",
      "   +-------------------+\n",
      " 3 |   |   |   |   |   | 1 \n",
      "   +-------------------+\n",
      " 2 |   |   |   |   |   | 2 \n",
      "   +-------------------+\n",
      " 1 |   |   |   |   |   | 2 \n",
      "   +-------------------+\n",
      "     1   4   3   2   2\n",
      "     4   2   1   2   3\n",
      "   +-------------------+\n",
      " 3 | 2 | 3 | 5 | 4 | 1 | 3 \n",
      "   +-------------------+\n",
      " 2 | 1 | 5 | 4 | 3 | 2 | 4 \n",
      "   +-------------------+\n",
      " 3 | 3 | 4 | 2 | 1 | 5 | 1 \n",
      "   +-------------------+\n",
      " 2 | 4 | 2 | 1 | 5 | 3 | 2 \n",
      "   +-------------------+\n",
      " 1 | 5 | 1 | 3 | 2 | 4 | 2 \n",
      "   +-------------------+\n",
      "     1   4   3   2   2\n",
      "Crides recursives: 444\n",
      "Temps: 0.03s\n"
     ]
    }
   ],
   "source": [
    "num_recursive_calls = 0\n",
    "t0 = time.perf_counter()\n",
    "skyscrapper([4,2,1,2,3],\n",
    "            [1,4,3,2,2],\n",
    "            [3,2,3,2,1],\n",
    "            [3,4,1,2,2])\n",
    "t1 = time.perf_counter()\n",
    "print('Crides recursives:', num_recursive_calls)\n",
    "print(f'Temps: {t1-t0:.2f}s')"
   ]
  },
  {
   "cell_type": "code",
   "execution_count": 17,
   "metadata": {},
   "outputs": [
    {
     "name": "stdout",
     "output_type": "stream",
     "text": [
      "             3    \n",
      "   +---------------+\n",
      "   |   |   |   |   |   \n",
      "   +---------------+\n",
      "   |   |   |   |   | 2 \n",
      "   +---------------+\n",
      "   |   |   |   |   |   \n",
      "   +---------------+\n",
      "   |   |   |   |   |   \n",
      "   +---------------+\n",
      "         2   2    \n",
      "             3    \n",
      "   +---------------+\n",
      "   | 2 | 3 | 1 | 4 |   \n",
      "   +---------------+\n",
      "   | 1 | 4 | 2 | 3 | 2 \n",
      "   +---------------+\n",
      "   | 3 | 1 | 4 | 2 |   \n",
      "   +---------------+\n",
      "   | 4 | 2 | 3 | 1 |   \n",
      "   +---------------+\n",
      "         2   2    \n",
      "Crides recursives: 75\n",
      "Temps: 0.01s\n"
     ]
    }
   ],
   "source": [
    "num_recursive_calls = 0\n",
    "t0 = time.perf_counter()\n",
    "skyscrapper([0,0,3,0],\n",
    "            [0,2,2,0],\n",
    "            [0,0,0,0],\n",
    "            [0,2,0,0])\n",
    "t1 = time.perf_counter()\n",
    "print('Crides recursives:', num_recursive_calls)\n",
    "print(f'Temps: {t1-t0:.2f}s')"
   ]
  }
 ],
 "metadata": {
  "kernelspec": {
   "display_name": "Python 3 (ipykernel)",
   "language": "python",
   "name": "python3"
  },
  "language_info": {
   "codemirror_mode": {
    "name": "ipython",
    "version": 3
   },
   "file_extension": ".py",
   "mimetype": "text/x-python",
   "name": "python",
   "nbconvert_exporter": "python",
   "pygments_lexer": "ipython3",
   "version": "3.10.9"
  }
 },
 "nbformat": 4,
 "nbformat_minor": 4
}

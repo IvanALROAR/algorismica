{
 "cells": [
  {
   "cell_type": "markdown",
   "metadata": {},
   "source": [
    "<div style=\"padding:30px; color: white; background-color: #0071CD\">\n",
    "<center>\n",
    "<img src=\"img/logoub.jpeg\"></img>\n",
    "<center>\n",
    "<h1>Algorísmica Avançada</h1>\n",
    "<h2>Greedy</h2>\n",
    "</center>\n",
    "</div>"
   ]
  },
  {
   "cell_type": "code",
   "execution_count": 1,
   "metadata": {},
   "outputs": [
    {
     "data": {
      "text/html": [
       "<style>.container { width:100% !important; }</style>"
      ],
      "text/plain": [
       "<IPython.core.display.HTML object>"
      ]
     },
     "metadata": {},
     "output_type": "display_data"
    }
   ],
   "source": [
    "from IPython.display import display, HTML\n",
    "display(HTML(\"<style>.container { width:100% !important; }</style>\"))"
   ]
  },
  {
   "cell_type": "markdown",
   "metadata": {},
   "source": [
    "# Problema 2: Repostatge de vehicles (Òptim) (2p)</h1>\n",
    "\n",
    "Modifiqueu l'algorisme anterior per a que la solució sigui òptima. <br>\n",
    "       En aquest cas, només haureu d'omplir el dipòsit amb els litres necessaris per a arribar a la benzinera més propera amb un cost inferior a la que estem actualment. <br>\n",
    "       Comproveu que la solució que obteniu amb aquest algorisme és inferior a la solució del Problema 1.\n",
    "    </p>    \n",
    "   \n",
    "</div>"
   ]
  },
  {
   "cell_type": "markdown",
   "metadata": {},
   "source": [
    "Exemple:<br>\n",
    "       Suposem que tenim benzineres als punts 10, 11, 13, el destí està al punt 14 i els preus són 0.5, 0.4, 0.3 respectivament. La capacitat del cotxe és de 10L.<br>\n",
    "       <ol>\n",
    "           <li> Comprovem quines benzineres són assolibles: Només podem arribar a la benzinera del km.10 que té cost 0.5€/L.\n",
    "           <li> Abans de decidir quants litres omplim, mirem a quines benzineres podríem arribar. Podríem arribar al km.11, al km.13 i al km.14 (destinació).\n",
    "           <li> Com que la benzinera del km.11 val 0.4€/L i 0.4<0.5, només omplim amb els litres necessaris per arribar a aquesta benzinera (1L).\n",
    "           <li> Ens movem a aquesta benzinera i repetim el procés.                                                    \n",
    "       </ol>"
   ]
  },
  {
   "cell_type": "code",
   "execution_count": 2,
   "metadata": {},
   "outputs": [],
   "source": [
    "def refill_prices_optim(K, stations, prices):\n",
    "    \"\"\"\n",
    "    Repostatge òptim de vehicles amb costos. \n",
    "    \n",
    "    Params\n",
    "    ======\n",
    "    :K: dipòsit del vehicle\n",
    "    :stations: llista de benzineres. L'últim element és el destí.\n",
    "    :prices: Llista de preus. Té un element menys que 'stations'.\n",
    "    \n",
    "    Returns\n",
    "    =======\n",
    "    :exists: Booleà True/False depenent de si existeix o no solució al problema.\n",
    "    :num_stops: Número de benzineres a les que hem de parar.\n",
    "    :stops: Quilòmetres de les benzineres on fem parada.\n",
    "    :value: Cost del trajecte.\n",
    "    \"\"\"\n",
    "    \n",
    "    exists = True    \n",
    "    stops = []\n",
    "    value = 0.0\n",
    "    distancia = K # variable que indica lo kilometre al que podem arribar en diposit al maxim\n",
    "    \n",
    "    while exists: # Arranquem en lo diposit ple i distancia que podem arribar és K + (km on estem)\n",
    "        \n",
    "        # si la distancia es major que el desti, hem trobat la solució (no cal parar més)\n",
    "        if distancia >= stations[-1]:\n",
    "            break\n",
    "        \n",
    "        # trobem a quants punts de parada podem arribar\n",
    "        x = 0\n",
    "        for i, element in enumerate(stations[:-1]):\n",
    "            if element <= distancia:\n",
    "                x += 1\n",
    "            else:\n",
    "                break\n",
    "                \n",
    "#CAS 1 -> NO SOLUCIÓ \n",
    "        if x == 0:\n",
    "            exists = False\n",
    "            break\n",
    "        \n",
    "# vaig a la gasolinera mes barata de les que puc arribar\n",
    "        pos = 0\n",
    "        preu_ideal = prices[pos]\n",
    "        km = stations[pos]#indica a quin km estem\n",
    "        for j in range(1, x):\n",
    "            if prices[j] < preu_ideal:\n",
    "                pos = j\n",
    "                preu_ideal = prices[pos]\n",
    "                km = stations[pos]\n",
    "                \n",
    "        stops.append(km)\n",
    "        diposit = distancia - km #variable que marca el que queda al diposit per no recargar de mes proper cop\n",
    "        distancia = km + K\n",
    "        del stations[0:pos+1]\n",
    "        del prices[0:pos+1]\n",
    "        \n",
    "\n",
    "#CAS 2 -> anire plenant lo minim per arribar a gasolinera mes proxima i que sigue mes barata que l'actual dins del rang.\n",
    "        xofera = True\n",
    "        while xofera:\n",
    "        \n",
    "            if len(stations)==1:\n",
    "                break\n",
    "                \n",
    "            #desde on estic miro el nombre de gasolineres mes barates\n",
    "            x = 0\n",
    "            for i, element in enumerate(stations[:-1]):#no mirem la ultima perque indica el final i no te preu\n",
    "                if element <= distancia:\n",
    "                    x += 1\n",
    "                else:\n",
    "                    break\n",
    "                    \n",
    "            if x == 0:\n",
    "                break \n",
    "                \n",
    "            # hem moc (si hi ha alguna dins del rang) a la primera gasolinera mes barata que la meua    \n",
    "            for j in range(x):\n",
    "                if preu_ideal >= prices[j]:\n",
    "                    value = value + preu_ideal*(stations[j]-(km+diposit))\n",
    "                    diposit = 0\n",
    "                    preu_ideal = prices[j]\n",
    "                    km = stations[j]\n",
    "                    \n",
    "                    stops.append(km)\n",
    "                    distancia = K + km\n",
    "                    \n",
    "                    del stations[0:j+1]\n",
    "                    del prices[0:j+1]\n",
    "                    xofera = True\n",
    "                    break\n",
    "                else:\n",
    "                    xofera = False\n",
    "\n",
    "#CAS 3 -> NO hi ha cap més barata, pleno lo minim per arribar al final o poso diposit ple.\n",
    "        if distancia >= stations[-1]:\n",
    "            value = value + preu_ideal*(stations[-1] - (km + diposit))\n",
    "            \n",
    "        else:\n",
    "            value = value + preu_ideal*(K - diposit)\n",
    "    if exists:\n",
    "        num_stops = len(stops)\n",
    "        return exists, num_stops, stops, value\n",
    "    else:\n",
    "        num_stops = len(stops)\n",
    "        return exists, num_stops, stops, value\n",
    "        "
   ]
  },
  {
   "cell_type": "code",
   "execution_count": 3,
   "metadata": {},
   "outputs": [
    {
     "name": "stdout",
     "output_type": "stream",
     "text": [
      "(True, 3, [10, 11, 13], 1.6)\n"
     ]
    }
   ],
   "source": [
    "print(refill_prices_optim(10, [10, 11, 13, 14], [0.5, 0.4, 0.3]))"
   ]
  },
  {
   "cell_type": "code",
   "execution_count": 4,
   "metadata": {
    "scrolled": true
   },
   "outputs": [
    {
     "name": "stdout",
     "output_type": "stream",
     "text": [
      "(True, 4, [8, 16, 18, 27], 17.2)\n"
     ]
    }
   ],
   "source": [
    "print(refill_prices_optim(10, [8, 14, 16, 18, 23, 27, 30], [0.9, 1.2, 0.6, 1.2, 2.1, 1.7]))"
   ]
  },
  {
   "cell_type": "markdown",
   "metadata": {},
   "source": [
    "# Problema 3: Un alfabet estrany (5p)</h1>\n",
    " \n",
    " Volem enviar missatges utilitzant el mínim d'espai possible utilitzant una codificació de dos caràcters '.' i '-'. Per fer-ho hem de traduïr cada lletra de l'alfabet català a aquesta representació. <br>\n",
    "        Per exemple, podem assignar que la lletra A correspon a l'string '.', la lletra B a l'string '.-' i la lletra C a l'string '--'. Així, la paraula ABC ens quedaria codificada com '..---'.<br><br>\n",
    "        Per a que la codificació sigui bona i reversible, és a dir, que siguem capaços de desxifrar-la, és important que els strings de codificació que triem no portin a errors.<br>\n",
    "        Per exemple, si codifiquem A='.', B='-.', C='.-' i tenim l'string '.-..-', aquest pot representar tant la paraula ABC com la paraula CAC i, per tant, no és una bona codificació.\n",
    "        Seguiu els següents passos per a implementar la solució:\n",
    "    </p>  \n",
    "    <h2>3.1 Trobar la codificació</h2>\n",
    "    <ol>\n",
    "        <li>Implementeu una funció <code>compute_frequency</code> que calculi la freqüència de cada lletra, és a dir, el nombre de cops que apareix a dins l'string.   \n",
    "        <li>Ara crearem un arbre binari per emmagatzemar els nodes. Utilitza la classe <code>Node</code> seguint les indicacions:\n",
    "        <ol>\n",
    "            <li>Inicialitza una llista <code>nodes_list</code> on cada lletra sigui un node i tingui com a valor, el càlcul de freqüència del primer apartat.\n",
    "            <li>Mentre la llista tingui dos nodes com a mínim, extreu de la llista els dos nodes amb la frequencia més petita i guarda'ls a l'arbre assignant-els-hi el mateix pare. \n",
    "            <li>Assigna el caràcter '.' al node de la dreta i el caràcter '-' al node de l'esquerra.\n",
    "            <li>Guarda el node pare a <code>nodes_list</code> assignant-li com a valor de freqüència la suma dels seus dos fills.\n",
    "            <li>Torna al punt B."
   ]
  },
  {
   "cell_type": "code",
   "execution_count": 5,
   "metadata": {},
   "outputs": [
    {
     "data": {
      "image/png": "[encoded data removed]",
      "text/plain": [
       "<Figure size 400x200 with 1 Axes>"
      ]
     },
     "metadata": {},
     "output_type": "display_data"
    }
   ],
   "source": [
    "from matplotlib import pyplot as plt\n",
    "im = plt.imread(\"img/graph.png\")\n",
    "fig, ax = plt.subplots(figsize=(4, 2))\n",
    "ax.imshow(im)\n",
    "plt.show()"
   ]
  },
  {
   "cell_type": "markdown",
   "metadata": {},
   "source": [
    "<li> Assigna un codi a cada fulla de l'arbre de la forma següent: sempre que descendeixis a un node de la dreta utilitza el caràcter '.' i al descendir al node de l'esquerra utilitza el caràcter '-'.\n",
    "        <li>Retorna aquesta assignació com a diccionari.\n",
    "    </ol>\n",
    "    <h2>3.2 Codificar i decodificar</h2>\n",
    "    <ol>\n",
    "        <li>Crea una funció <code>encode</code> que utilitzi el diccionari retornat anteriorment per a codificar un text d'entrada\n",
    "        <li>Crea una funció <code>decode</code> que utilitzi el diccionari retornat anteriorment per a decodificar un text d'entrada\n",
    "        <li>Executa la funció <code>alphabet</code> i comprova que el resultat sigui l'esperat.\n",
    "    </ol>"
   ]
  },
  {
   "cell_type": "markdown",
   "metadata": {},
   "source": [
    "Exemple d'execució:\n",
    "\n",
    "- Text a codificar: ABABAC\n",
    "- Diccionari de freqüències: {'A': 3, 'B': 2, 'C': 1}\n",
    "- Diccionari de conversió: {'C': '--', 'B': '-.', 'A': '.'}\n",
    "- Codificat: .-..-..--\n",
    "- Decodificat: ABABAC"
   ]
  },
  {
   "cell_type": "code",
   "execution_count": 8,
   "metadata": {},
   "outputs": [],
   "source": [
    "from collections import defaultdict\n",
    "\n",
    "def compute_frequency(text):\n",
    "    \"\"\"\n",
    "    Params\n",
    "    ======\n",
    "    :text: El text que volem codificar\n",
    "    \n",
    "    Returns\n",
    "    =======\n",
    "    :dct: Un diccionari amb el nombre de cops que apareix cada simbol en el text d'entrada. Per exemple: {'A': 3, 'B': 2, 'C': 1}\n",
    "    \"\"\"\n",
    "    \n",
    "    dct = defaultdict(int)\n",
    "    paraules = list(text)\n",
    "    for i in paraules:\n",
    "        dct[i] += 1\n",
    "    return dct"
   ]
  },
  {
   "cell_type": "code",
   "execution_count": 9,
   "metadata": {},
   "outputs": [],
   "source": [
    "class Node:\n",
    "    \"\"\"\n",
    "    Aquesta classe emmagatzema la informació dels nodes de l'arbre binari.\n",
    "    \"\"\"\n",
    "    def __init__(self, node, value, left=None, right=None):\n",
    "        self.node = node    # String que representa el node\n",
    "        self.value = value  # Valor de freqüència\n",
    "        self.left = left    # Node de l'esquerra\n",
    "        self.right = right  # Node de la dreta\n",
    "        self.code = ''      # Codificació del node\n",
    "\n",
    "    def set_code(self, code):\n",
    "        self.code = code\n",
    "    \n",
    "    def __repr__(self):\n",
    "        return f\"Node({self.node},{self.value},{self.code})\"\n",
    "    \n",
    "# Creem a part la funcio que verifica si un node te fills o no (es fulla)\n",
    "    def isLeaf(self):\n",
    "        if self.left == None and self.right == None:\n",
    "            return True\n",
    "        else:\n",
    "            return False"
   ]
  },
  {
   "cell_type": "code",
   "execution_count": 10,
   "metadata": {},
   "outputs": [],
   "source": [
    "def assign_recursive(node, codes, codification):\n",
    "    #si el node es fulla ja estem, completem la codificació\n",
    "    if node.isLeaf():\n",
    "        codes[node.node] = codification + node.code\n",
    "    else:\n",
    "        if node.left.isLeaf():\n",
    "            assign_recursive(node.left, codes, codification) #següent es fulla, no cal afegir cap simbol més\n",
    "        else:\n",
    "            assign_recursive(node.left, codes, codification + '-')#a l'esquerra posem -\n",
    "        if node.right.isLeaf():\n",
    "            assign_recursive(node.right, codes, codification) #següent es fulla, no cal afegir cap simbol més\n",
    "        else:\n",
    "            assign_recursive(node.right, codes, codification + '.')#a la dreta s'afegix .\n",
    "        \n",
    "    return codes\n",
    "\n",
    "\n",
    "def assign_codes(text, counts):   \n",
    "    \"\"\"\n",
    "    Aquesta funció construeix el diccionari de conversió de lletres a símbols '.' i '-'.\n",
    "    \n",
    "    Params\n",
    "    ======\n",
    "    :text: El text que volem convertir\n",
    "    :counts: El diccionari de freqüències que ens retorna la funció compute_frequency\n",
    "    \n",
    "    Returns\n",
    "    =======\n",
    "    :codes: El diccionari de conversió. Per exemple: {'C': '--', 'B': '-.', 'A': '.'}\n",
    "    \"\"\"\n",
    "    \n",
    "    codes = {}\n",
    "    \n",
    "    #Assignem lol diccionari en les freqüencies de paraules\n",
    "    counts = compute_frequency(text)\n",
    "    \n",
    "    #Com deia l'enunciat, creem una node list a partir de classe node que rep parametres paraule i freq.\n",
    "    nodes_list = [Node(char, freq) for char, freq in counts.items()]\n",
    "    \n",
    "    while len(nodes_list) > 1:\n",
    "        #1r Ordenem de més petit a més gran\n",
    "        nodes_list.sort(key=lambda node: node.value)\n",
    "        \n",
    "        #Treiem los dos nodes de la llista que tenen freqüència més baixa\n",
    "        node_left = nodes_list.pop(0)\n",
    "        node_right = nodes_list.pop(0)\n",
    "        \n",
    "        #los hi assignem el caràcter corresponent (Per aixo en la crida recusiva quan arribem a l'ultim no afegim, ya lo tenen)\n",
    "        node_left.set_code('-')\n",
    "        node_right.set_code('.')\n",
    "        \n",
    "        #Assignem los dos nodes al pare, que te com a valor la suma de les freqüències dels dos fills\n",
    "        node_pare = Node('', node_left.value+node_right.value, node_left, node_right)\n",
    "        \n",
    "        #Guardem lo node pare a la nodes_list:\n",
    "        nodes_list.append(node_pare)\n",
    "        \n",
    "    root = nodes_list[0] #Ultim element de la llista la root, node de dalt de tot en valor (#paraules del text)\n",
    "    codes = assign_recursive(root, codes, '')#Cridema a la funcio recursiva que va baixant i augmentant codificació\n",
    "    \n",
    "    \n",
    "    return codes"
   ]
  },
  {
   "cell_type": "code",
   "execution_count": 11,
   "metadata": {},
   "outputs": [],
   "source": [
    "def encode(text, diccionari):\n",
    "    \"\"\"\n",
    "    Donat un text a codificar i un diccionari de conversió, codifica el text.\n",
    "    \n",
    "    Params\n",
    "    ======\n",
    "    :text: El text que volem codificar\n",
    "    :diccionari: El diccionari de conversió que farem servir\n",
    "    \n",
    "    Returns\n",
    "    =======\n",
    "    :code: Una representació del text usant només els caràcters '.' i '-'\n",
    "    \"\"\"\n",
    "    \n",
    "    code = \"\"\n",
    "    for char in text:\n",
    "        code += diccionari[char] #cada lletra es la clau del diccionari que te assignada la seua codificació\n",
    "    \n",
    "    return code"
   ]
  },
  {
   "cell_type": "code",
   "execution_count": 12,
   "metadata": {},
   "outputs": [],
   "source": [
    "import math\n",
    "\n",
    "def decode(text, diccionari):\n",
    "    \"\"\"\n",
    "    Donat un text a decodificar i un diccionari de conversió, decodifica el text.\n",
    "    \n",
    "    Params\n",
    "    ======\n",
    "    :text: El text que volem decodificar (caràcters '.' i '-')\n",
    "    :diccionari: El diccionari de conversió que hem fet servir per codificar\n",
    "    \n",
    "    Returns\n",
    "    =======\n",
    "    :code: El text resultant de la decodificació.\n",
    "    \"\"\"\n",
    "    #analoga a encode pero ara a partir\n",
    "    \n",
    "    decode = \"\"\n",
    "    while len(text) > 0:\n",
    "        for letter, code in diccionari.items(): #comparem cada entrada del text amb cada codificacio del diccionari\n",
    "            if text.startswith(code):  #quan troba coincidencia posa de codi, posa la lletra corresponent\n",
    "                decode += letter\n",
    "                text = text[len(code):] #reinicia el proces a partir d'aquell troset de codi\n",
    "    \n",
    "    \n",
    "    return decode"
   ]
  },
  {
   "cell_type": "code",
   "execution_count": 13,
   "metadata": {},
   "outputs": [],
   "source": [
    "def alphabet(text):\n",
    "    \"\"\"\n",
    "    Funció per comprovar que el codi s'executa correctament. No modifiqueu aquesta funció.\n",
    "    \n",
    "    Params\n",
    "    ======\n",
    "    :text: Missatge que volem fer servir per provar les funcions.\n",
    "    \"\"\"\n",
    "    \n",
    "    print(\"Text a codificar:\", text)\n",
    "    \n",
    "    counts = compute_frequency(text)\n",
    "    print(\"Diccionari de freqüències:\", counts)\n",
    "    \n",
    "    codes = assign_codes(text, counts)\n",
    "    print(\"Diccionari de conversió:\", codes)\n",
    "    \n",
    "    codi = encode(text, codes)\n",
    "    print(\"Codificat:\", codi)\n",
    "    print(\"Decodificat:\", decode(codi, codes))"
   ]
  },
  {
   "cell_type": "code",
   "execution_count": 14,
   "metadata": {},
   "outputs": [
    {
     "name": "stdout",
     "output_type": "stream",
     "text": [
      "Text a codificar: ABABAC\n",
      "Diccionari de freqüències: defaultdict(<class 'int'>, {'A': 3, 'B': 2, 'C': 1})\n",
      "Diccionari de conversió: {'A': '-', 'C': '.-', 'B': '..'}\n",
      "Codificat: -..-..-.-\n",
      "Decodificat: ABABAC\n"
     ]
    }
   ],
   "source": [
    "text_a_codificar = \"ABABAC\"\n",
    "alphabet(text_a_codificar)"
   ]
  },
  {
   "cell_type": "code",
   "execution_count": 15,
   "metadata": {},
   "outputs": [
    {
     "name": "stdout",
     "output_type": "stream",
     "text": [
      "Text a codificar: VISCAXERTA\n",
      "Diccionari de freqüències: defaultdict(<class 'int'>, {'V': 1, 'I': 1, 'S': 1, 'C': 1, 'A': 2, 'X': 1, 'E': 1, 'R': 1, 'T': 1})\n",
      "Diccionari de conversió: {'S': '---', 'C': '--.', 'X': '-.-', 'E': '-..', 'R': '.--', 'T': '.-.', 'A': '..-', 'V': '...-', 'I': '....'}\n",
      "Codificat: ...-....-----...--.--...--.-...-\n",
      "Decodificat: VISCAXERTA\n"
     ]
    }
   ],
   "source": [
    "text_a_codificar2 = \"VISCAXERTA\"\n",
    "alphabet(text_a_codificar2)"
   ]
  },
  {
   "cell_type": "code",
   "execution_count": 16,
   "metadata": {},
   "outputs": [
    {
     "name": "stdout",
     "output_type": "stream",
     "text": [
      "Text a codificar: VISCASANTMARTI\n",
      "Diccionari de freqüències: defaultdict(<class 'int'>, {'V': 1, 'I': 2, 'S': 2, 'C': 1, 'A': 3, 'N': 1, 'T': 2, 'M': 1, 'R': 1})\n",
      "Diccionari de conversió: {'A': '--', 'R': '-.-', 'I': '-..', 'S': '.--', 'T': '.-.', 'V': '..--', 'C': '..-.', 'N': '...-', 'M': '....'}\n",
      "Codificat: ..---...--..-.--.----...-.-.....---.-.-.-..\n",
      "Decodificat: VISCASANTMARTI\n"
     ]
    }
   ],
   "source": [
    "text_a_codificar2 = \"VISCASANTMARTI\"\n",
    "alphabet(text_a_codificar2)"
   ]
  }
 ],
 "metadata": {
  "kernelspec": {
   "display_name": "Python 3 (ipykernel)",
   "language": "python",
   "name": "python3"
  },
  "language_info": {
   "codemirror_mode": {
    "name": "ipython",
    "version": 3
   },
   "file_extension": ".py",
   "mimetype": "text/x-python",
   "name": "python",
   "nbconvert_exporter": "python",
   "pygments_lexer": "ipython3",
   "version": "3.10.9"
  }
 },
 "nbformat": 4,
 "nbformat_minor": 4
}
